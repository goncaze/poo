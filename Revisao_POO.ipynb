{
  "nbformat": 4,
  "nbformat_minor": 0,
  "metadata": {
    "colab": {
      "provenance": [],
      "authorship_tag": "ABX9TyNxOO2SCHYiM9hdkAVE83/X",
      "include_colab_link": true
    },
    "kernelspec": {
      "name": "python3",
      "display_name": "Python 3"
    },
    "language_info": {
      "name": "python"
    }
  },
  "cells": [
    {
      "cell_type": "markdown",
      "metadata": {
        "id": "view-in-github",
        "colab_type": "text"
      },
      "source": [
        "<a href=\"https://colab.research.google.com/github/goncaze/poo/blob/main/Revisao_POO.ipynb\" target=\"_parent\"><img src=\"https://colab.research.google.com/assets/colab-badge.svg\" alt=\"Open In Colab\"/></a>"
      ]
    },
    {
      "cell_type": "markdown",
      "source": [
        "# <font color=\"yellow\" align='center'><b>Classes e Objetos na linguagem Python</b></font>"
      ],
      "metadata": {
        "id": "v2PVhqNp1yBo"
      }
    },
    {
      "cell_type": "markdown",
      "source": [
        "---\n",
        "# <font color=\"yellow\"><b>O básico de POO em Python</b></font>\n",
        "---"
      ],
      "metadata": {
        "id": "1NuQdtu4BZpG"
      }
    },
    {
      "cell_type": "markdown",
      "source": [
        "### <font color=\"yellow\">Para criar uma classe, use a palavra-chave class </font>"
      ],
      "metadata": {
        "id": "i1lwGMof2D5y"
      }
    },
    {
      "cell_type": "code",
      "execution_count": null,
      "metadata": {
        "id": "vxlC5Lu102IH"
      },
      "outputs": [],
      "source": [
        "class Veiculo:\n",
        "    pass\n",
        "\n",
        "# A palavra reservada \"pass\" é utilizada para indicar um elaboração de um código futuro.\n",
        "# Asim, evita-se que ocarra um erro durante a execução."
      ]
    },
    {
      "cell_type": "markdown",
      "source": [
        "### <font color=\"yellow\">Para criar um objeto da classe Fábrica </font>"
      ],
      "metadata": {
        "id": "KF9_PtMp3me3"
      }
    },
    {
      "cell_type": "code",
      "source": [
        "carro1 = Veiculo()"
      ],
      "metadata": {
        "id": "iWYk2QLw23Sa"
      },
      "execution_count": null,
      "outputs": []
    },
    {
      "cell_type": "markdown",
      "source": [
        "### <font color=\"yellow\">Formas de como determinar o tipo de um objeto:</font>"
      ],
      "metadata": {
        "id": "mikasMlm4xN1"
      }
    },
    {
      "cell_type": "code",
      "source": [
        "type(carro1)"
      ],
      "metadata": {
        "id": "I7vZnC0M359i"
      },
      "execution_count": null,
      "outputs": []
    },
    {
      "cell_type": "code",
      "source": [
        "type(carro1).__name__ == \"veiculo\""
      ],
      "metadata": {
        "id": "vZPvpNce57TE"
      },
      "execution_count": null,
      "outputs": []
    },
    {
      "cell_type": "code",
      "source": [
        "isinstance(carro1, Veiculo)"
      ],
      "metadata": {
        "id": "w3nfSbt06D2W"
      },
      "execution_count": null,
      "outputs": []
    },
    {
      "cell_type": "code",
      "source": [
        "carro1.__class__.__name__ == \"veiculo\""
      ],
      "metadata": {
        "id": "7kFGw5-36KT3"
      },
      "execution_count": null,
      "outputs": []
    },
    {
      "cell_type": "markdown",
      "source": [
        "### <font color=\"yellow\">Método <b>\"__ init __\"</b> que é invocado na criação de um objeto de qualquer classe  </font>"
      ],
      "metadata": {
        "id": "RZaj24bX4xue"
      }
    },
    {
      "cell_type": "code",
      "source": [
        "class Veiculo:\n",
        "    def __init__(self) -> None:\n",
        "        pass"
      ],
      "metadata": {
        "id": "wJuKz-GO4yW1"
      },
      "execution_count": null,
      "outputs": []
    },
    {
      "cell_type": "markdown",
      "source": [
        "### <font color=\"yellow\"> Podemos declarar propriedades da classe e inicializálos através do método init </font>"
      ],
      "metadata": {
        "id": "KB-qOhrw7DbG"
      }
    },
    {
      "cell_type": "code",
      "source": [
        "class Veiculo:\n",
        "    def __init__(self, modelo, marca) -> None:\n",
        "        self.modelo = modelo\n",
        "        self.marca = marca\n"
      ],
      "metadata": {
        "id": "H-Sv73el7DbN"
      },
      "execution_count": null,
      "outputs": []
    },
    {
      "cell_type": "markdown",
      "source": [
        "### <font color=\"yellow\">TESTE: instanciar objeto da classe Veículo</font>"
      ],
      "metadata": {
        "id": "iwH1YRfQ7Dot"
      }
    },
    {
      "cell_type": "code",
      "source": [
        "carro1 = Veiculo(\"Ford Ka\", \"Ford\")\n"
      ],
      "metadata": {
        "id": "qfeE-iG07Dou"
      },
      "execution_count": null,
      "outputs": []
    },
    {
      "cell_type": "markdown",
      "source": [
        "### <font color=\"yellow\">Imprimir o objeto carro1</font>"
      ],
      "metadata": {
        "id": "ujk5-FuUjc1q"
      }
    },
    {
      "cell_type": "code",
      "source": [
        "print(f\"{carro1 =}\")\n"
      ],
      "metadata": {
        "id": "DRmy7Cy9jc1v"
      },
      "execution_count": null,
      "outputs": []
    },
    {
      "cell_type": "markdown",
      "source": [
        "### <font color=\"yellow\">Imprimir os atributos do objeto carro1</font>"
      ],
      "metadata": {
        "id": "Jj3Nzvuljwir"
      }
    },
    {
      "cell_type": "code",
      "source": [
        "print(f\"{carro1.modelo =}\")\n",
        "print(f\"{carro1.marca =}\")\n"
      ],
      "metadata": {
        "id": "3Yu-6vWxjwiy"
      },
      "execution_count": null,
      "outputs": []
    },
    {
      "cell_type": "markdown",
      "source": [
        "### <font color=\"yellow\">Método \"__ str __\" é invocado quando o objeto é impresso. Por ex.: print(objeto)  </font>"
      ],
      "metadata": {
        "id": "24L2Hfry7Dt0"
      }
    },
    {
      "cell_type": "code",
      "source": [
        "class Veiculo:\n",
        "    def __init__(self, modelo, marca) -> None:\n",
        "        self.modelo = modelo\n",
        "        self.marca = marca\n",
        "\n",
        "    def __str__(self) -> str:\n",
        "        return f\"\"\"\n",
        "            {self.modelo =}\n",
        "            {self.marca =}\n",
        "        \"\"\""
      ],
      "metadata": {
        "id": "2BgYgmLX7Dt0"
      },
      "execution_count": null,
      "outputs": []
    },
    {
      "cell_type": "markdown",
      "source": [
        "### <font color=\"yellow\">Imprimir objeto usando método \"__ str __\" </font>"
      ],
      "metadata": {
        "id": "O0rAogjilGrE"
      }
    },
    {
      "cell_type": "code",
      "source": [
        "carro1 = Veiculo(\"Ford Ka\", \"Ford\")\n",
        "\n",
        "print(carro1)"
      ],
      "metadata": {
        "id": "qg0V97m9k3QE"
      },
      "execution_count": null,
      "outputs": []
    },
    {
      "cell_type": "markdown",
      "source": [
        "### <font color=\"yellow\">Métodos de objeto </font>"
      ],
      "metadata": {
        "id": "3GOg8JJ07Dxc"
      }
    },
    {
      "cell_type": "code",
      "source": [
        "class Veiculo:\n",
        "    def __init__(self, modelo, marca) -> None:\n",
        "        self.modelo = modelo\n",
        "        self.marca = marca\n",
        "\n",
        "\n",
        "    # EXEMPLO DE MÉTODO DO OBJETO\n",
        "    def buzinar(self)->None:\n",
        "        print(\"Bi-bi...\")\n",
        "\n",
        "\n",
        "    def __str__(self) -> str:\n",
        "        return f\"\"\"\n",
        "            {self.modelo =}\n",
        "            {self.marca =}\n",
        "        \"\"\""
      ],
      "metadata": {
        "id": "ud7pCh567Dxc"
      },
      "execution_count": null,
      "outputs": []
    },
    {
      "cell_type": "markdown",
      "source": [
        "### <font color=\"yellow\">Criar objeto da classe Veículo e invocar o método buzinar </font>"
      ],
      "metadata": {
        "id": "fWFw92we7D02"
      }
    },
    {
      "cell_type": "code",
      "source": [
        "carro1 = Veiculo(\"Ford Ka\", \"Ford\")\n",
        "\n",
        "carro1.buzinar()"
      ],
      "metadata": {
        "id": "aFdtkOQb7D02"
      },
      "execution_count": null,
      "outputs": []
    },
    {
      "cell_type": "markdown",
      "source": [
        "### <font color=\"yellow\">Modificar propriedades do objeto</font>"
      ],
      "metadata": {
        "id": "mrpNxstG7D4G"
      }
    },
    {
      "cell_type": "code",
      "source": [
        "carro1.modelo = \"Fiat Pulse\"\n",
        "carro1.marca = \"Fiat\"\n",
        "\n",
        "print(carro1)"
      ],
      "metadata": {
        "id": "p4YbTuot7D4G"
      },
      "execution_count": null,
      "outputs": []
    },
    {
      "cell_type": "markdown",
      "source": [
        "### <font color=\"yellow\">Modificador de acesso de leitura (Getter) das propriedades do objeto</font>"
      ],
      "metadata": {
        "id": "8avYeXN-7D7M"
      }
    },
    {
      "cell_type": "code",
      "source": [
        "class Veiculo:\n",
        "\n",
        "    def __init__(self, modelo, marca) -> None:\n",
        "        self._propriedade_teste = 0\n",
        "\n",
        "\n",
        "    # Exemplo de modificador de acesso de leitura de uma propriedade\n",
        "    # O decorador @property  transforma o método valor_teste() em um “getter” somente leitura para um atributo com o mesmo nome da propriedade _propriedade_teste.\n",
        "    @property\n",
        "    def propriedade_teste(self)->int:\n",
        "        # insirá código aqui antes de retornar o valor da propriedade\n",
        "        self._propriedade_teste += 1 # esta linha serve para mostrar um efeito do uso de @property\n",
        "        return self._propriedade_teste\n",
        "\n",
        "\n",
        "    def __str__(self) -> str:\n",
        "        return f\"\"\"\n",
        "            {self._propriedade_teste = }\n",
        "        \"\"\""
      ],
      "metadata": {
        "id": "ZBSRZg4t7D7M"
      },
      "execution_count": null,
      "outputs": []
    },
    {
      "cell_type": "markdown",
      "source": [
        "### <font color=\"yellow\"> Instanciar objeto da classe Veiculo </font>"
      ],
      "metadata": {
        "id": "nfWxamGW7D92"
      }
    },
    {
      "cell_type": "code",
      "source": [
        "carro2 = Veiculo(\"Kardian\", \"Renault\")\n",
        "\n",
        "print(carro2)"
      ],
      "metadata": {
        "id": "gh-BNk5P7D92"
      },
      "execution_count": null,
      "outputs": []
    },
    {
      "cell_type": "markdown",
      "source": [
        "### <font color=\"yellow\">Testar modificador de acesso de leitura (Getter)</font>"
      ],
      "metadata": {
        "id": "cxBaJGeS7EAk"
      }
    },
    {
      "cell_type": "code",
      "source": [
        "print(f\"{carro2.propriedade_teste = }\")"
      ],
      "metadata": {
        "id": "SdgPJTaH7EDn"
      },
      "execution_count": null,
      "outputs": []
    },
    {
      "cell_type": "markdown",
      "source": [
        "### <font color=\"yellow\">Modificador de acesso de atribuição (Setter) das propriedades do objeto</font>"
      ],
      "metadata": {
        "id": "fTQfhlwP7EE9"
      }
    },
    {
      "cell_type": "code",
      "source": [
        "class Veiculo:\n",
        "\n",
        "    def __init__(self, modelo, marca) -> None:\n",
        "        self._propriedade_teste = 0\n",
        "\n",
        "\n",
        "    @property\n",
        "    def propriedade_teste(self)->int:\n",
        "        return self._propriedade_teste\n",
        "\n",
        "    # Exemplo de modificador de acesso de atribuição de uma propriedade\n",
        "    # O decorador @atributo.setter transforma o método propriedade_teste() em um “setter” permitindo a atribuição de novo valor  para a propriedade _propriedade_teste.\n",
        "    @propriedade_teste.setter\n",
        "    def propriedade_teste(self, novo_valor)->None:\n",
        "        # insirá código aqui antes de alterar o valor da propriedade\n",
        "        self._propriedade_teste += novo_valor * 2 # esta linha serve para mostrar um efeito do uso de @setter\n",
        "        return self._propriedade_teste\n",
        "\n",
        "\n",
        "    def __str__(self) -> str:\n",
        "        return f\"\"\"\n",
        "            {self._propriedade_teste = }\n",
        "        \"\"\""
      ],
      "metadata": {
        "id": "Je7Bu_Yl7EE9"
      },
      "execution_count": null,
      "outputs": []
    },
    {
      "cell_type": "markdown",
      "source": [
        "### <font color=\"yellow\"> Instanciar objeto da classe Veiculo </font>"
      ],
      "metadata": {
        "id": "NLHWPxVe7EIM"
      }
    },
    {
      "cell_type": "code",
      "source": [
        "carro3 = Veiculo(\"SW4\", \"Toyota\")\n",
        "\n",
        "print(carro3)"
      ],
      "metadata": {
        "id": "_NQlPWcu7EIM"
      },
      "execution_count": null,
      "outputs": []
    },
    {
      "cell_type": "markdown",
      "source": [
        "### <font color=\"yellow\">Testar modificador de acesso de atribuição (Setter)</font>"
      ],
      "metadata": {
        "id": "TY9JNJev7ELE"
      }
    },
    {
      "cell_type": "code",
      "source": [
        "carro3.propriedade_teste = 7\n",
        "\n",
        "print(carro3)"
      ],
      "metadata": {
        "id": "5q0HI9_07ELE"
      },
      "execution_count": null,
      "outputs": []
    },
    {
      "cell_type": "markdown",
      "source": [
        "### <font color=\"yellow\">Implementar modificadores de acesso de leitura/atribuição (Getter/Setter) para todas as propriedades da classe </font>"
      ],
      "metadata": {
        "id": "Lo66tAeT7EDn"
      }
    },
    {
      "cell_type": "code",
      "source": [
        "class Veiculo:\n",
        "\n",
        "    def __init__(self, modelo:str=\"\", marca:str=\"\") -> None:\n",
        "        self._modelo:str = modelo\n",
        "        self._marca:str = marca\n",
        "\n",
        "\n",
        "    # Exemplo de modificador de acesso de leitura de uma propriedade\n",
        "    @property\n",
        "    def modelo(self)->str:\n",
        "        # ... ... <- insirá código aqui antes de retornar o valor da propriedade\n",
        "        return self._modelo\n",
        "\n",
        "\n",
        "    # Exemplo de modificador de acesso de leitura de uma propriedade\n",
        "    @property\n",
        "    def marca(self)->str:\n",
        "        # ... ... <- insirá código aqui antes de retornar o valor da propriedade\n",
        "        return self._marca\n",
        "\n",
        "\n",
        "    @modelo.setter\n",
        "    def modelo(self, novo_valor)->None:\n",
        "        # ... ... <- insirá código aqui antes de alterar o valor da propriedade\n",
        "        self._modelo = novo_valor\n",
        "\n",
        "\n",
        "    @marca.setter\n",
        "    def marca(self, novo_valor)->None:\n",
        "        # ... ... <- insirá código aqui antes de alterar o valor da propriedade\n",
        "        self._marca = novo_valor\n",
        "\n",
        "\n",
        "    def buzinar(self)->None:\n",
        "        print(\"Bi-bi...\")\n",
        "\n",
        "\n",
        "    def __str__(self) -> str:\n",
        "        return f\"\"\"\n",
        "            {carro1.modelo =}\n",
        "            {carro1.marca =}\n",
        "        \"\"\""
      ],
      "metadata": {
        "id": "oeyVF4vK7EAk"
      },
      "execution_count": null,
      "outputs": []
    },
    {
      "cell_type": "markdown",
      "source": [
        "---\n",
        "# <font color=\"yellow\">**Herança Python** </font>\n",
        "---\n",
        "\n"
      ],
      "metadata": {
        "id": "g9ozRxC37ENs"
      }
    },
    {
      "cell_type": "markdown",
      "source": [
        "### <font color=\"yellow\">Classe pai ou classe base </font>"
      ],
      "metadata": {
        "id": "pSB4Ho1OCMWq"
      }
    },
    {
      "cell_type": "code",
      "source": [
        "class Pessoa:\n",
        "    def __init__(self, nome, idade) -> None:\n",
        "        self.nome = nome\n",
        "        self.idade = idade\n",
        "\n",
        "    def __str__(self) -> str:\n",
        "        return f\"\"\"\n",
        "            {self.nome = }\n",
        "            {self.idade = }\n",
        "        \"\"\""
      ],
      "metadata": {
        "id": "tzezNgU77ENs"
      },
      "execution_count": null,
      "outputs": []
    },
    {
      "cell_type": "markdown",
      "source": [
        "### <font color=\"yellow\">Testar um objeto da classe Pessoa </font>"
      ],
      "metadata": {
        "id": "NRCIGldG7ES_"
      }
    },
    {
      "cell_type": "code",
      "source": [
        "p1 = Pessoa(\"Joana Darc\", 22)\n",
        "\n",
        "print(p1)"
      ],
      "metadata": {
        "id": "iM73aP877ES_"
      },
      "execution_count": null,
      "outputs": []
    },
    {
      "cell_type": "markdown",
      "source": [
        "### <font color=\"yellow\">Classe filha ou classe derivada </font>"
      ],
      "metadata": {
        "id": "-5yTcW7G7EQm"
      }
    },
    {
      "cell_type": "code",
      "source": [
        "class Estudante(Pessoa):\n",
        "    pass\n"
      ],
      "metadata": {
        "id": "sGbICzqb7EQm"
      },
      "execution_count": null,
      "outputs": []
    },
    {
      "cell_type": "markdown",
      "source": [
        "### <font color=\"yellow\">Testar um objeto da classe filha ou derivada</font>"
      ],
      "metadata": {
        "id": "aPXp3RyS7EVm"
      }
    },
    {
      "cell_type": "code",
      "source": [
        "e1 = Estudante(\"Mikhele Alíh\", 22)\n",
        "\n",
        "print(e1)"
      ],
      "metadata": {
        "id": "Wjxf3arR7EZu"
      },
      "execution_count": null,
      "outputs": []
    },
    {
      "cell_type": "markdown",
      "source": [
        "### <font color=\"yellow\">Classe filha/derivada usando método init</font>"
      ],
      "metadata": {
        "id": "XksDrZYJ7EZu"
      }
    },
    {
      "cell_type": "code",
      "source": [
        "class Estudante(Pessoa):\n",
        "\n",
        "    def __init__(self, nome, idade) -> None:\n",
        "        super().__init__(nome, idade)\n"
      ],
      "metadata": {
        "id": "TtjIuzLm7EVm"
      },
      "execution_count": null,
      "outputs": []
    },
    {
      "cell_type": "markdown",
      "source": [
        "### <font color=\"yellow\">Testar um objeto da classe filha ou derivada</font>"
      ],
      "metadata": {
        "id": "j29hTHf-E5Gt"
      }
    },
    {
      "cell_type": "code",
      "source": [
        "e2 = Estudante(\"Airton Senna\", 32)\n",
        "\n",
        "print(e2)"
      ],
      "metadata": {
        "id": "cGqcev7xE5Gz"
      },
      "execution_count": null,
      "outputs": []
    },
    {
      "cell_type": "markdown",
      "source": [
        "### <font color=\"yellow\">Classe filha/derivada com a propriedade curso</font>"
      ],
      "metadata": {
        "id": "T3LB51aiFUhp"
      }
    },
    {
      "cell_type": "code",
      "source": [
        "class Estudante(Pessoa):\n",
        "\n",
        "    def __init__(self, nome, idade, curso) -> None:\n",
        "        super().__init__(nome, idade)\n",
        "        self.curso = curso\n"
      ],
      "metadata": {
        "id": "kp63-6IvFUhv"
      },
      "execution_count": null,
      "outputs": []
    },
    {
      "cell_type": "markdown",
      "source": [
        "### <font color=\"yellow\">Testar um objeto da classe filha ou derivada</font>"
      ],
      "metadata": {
        "id": "lStXFAdwFUhv"
      }
    },
    {
      "cell_type": "code",
      "source": [
        "e3 = Estudante(\"Albert Einstein\", 18, \"Física\")\n",
        "\n",
        "print(e3)"
      ],
      "metadata": {
        "id": "xkgNppAxFUhw"
      },
      "execution_count": null,
      "outputs": []
    },
    {
      "cell_type": "markdown",
      "source": [
        "### <font color=\"yellow\">Classe filha/derivada sobrescrever o método STR</font>"
      ],
      "metadata": {
        "id": "ePt_OWkKGiFS"
      }
    },
    {
      "cell_type": "code",
      "source": [
        "class Estudante(Pessoa):\n",
        "\n",
        "    def __init__(self, nome, idade, curso) -> None:\n",
        "        super().__init__(nome, idade)\n",
        "        self.curso = curso\n",
        "\n",
        "    def __str__(self) -> str:\n",
        "        return f\"\"\"\n",
        "            {self.nome = }\n",
        "            {self.idade = }\n",
        "            {self.curso = }\n",
        "        \"\"\"\n"
      ],
      "metadata": {
        "id": "TiM4CzXmGiFY"
      },
      "execution_count": null,
      "outputs": []
    },
    {
      "cell_type": "markdown",
      "source": [
        "### <font color=\"yellow\">Testar um objeto da classe filha ou derivada</font>"
      ],
      "metadata": {
        "id": "ExI8iHf_GiFZ"
      }
    },
    {
      "cell_type": "code",
      "source": [
        "e3 = Estudante(\"Albert Einstein\", 18, \"Física\")\n",
        "\n",
        "print(e3)"
      ],
      "metadata": {
        "id": "xS_wbl-IGiFZ"
      },
      "execution_count": null,
      "outputs": []
    },
    {
      "cell_type": "markdown",
      "source": [
        "---\n",
        "# <font color=\"yellow\">**Atributo de classe** </font>\n",
        "---\n",
        "\n"
      ],
      "metadata": {
        "id": "LnFEmYBXzQ4N"
      }
    },
    {
      "cell_type": "markdown",
      "source": [
        "### <font color=\"yellow\">Atributos de classe não são atributos de objetos</font>"
      ],
      "metadata": {
        "id": "10pwTtCP7EcU"
      }
    },
    {
      "cell_type": "code",
      "source": [
        "class FabricaVeiculo:\n",
        "\n",
        "    # uma propriedade de classe\n",
        "    fabricacao_total = 0\n",
        "\n",
        "    def __init__(self, cod_fabrica)->None:\n",
        "        self.cod_fabrica = cod_fabrica\n",
        "        self.qtde_fabricada = 0\n",
        "\n",
        "    def fabricar(self, qtde)->None:\n",
        "        self.qtde_fabricada += qtde\n",
        "        FabricaVeiculo.fabricacao_total += qtde\n",
        "        print(f\"\"\"\n",
        "            {self.cod_fabrica = }\n",
        "            {self.qtde_fabricada = }\n",
        "            {FabricaVeiculo.fabricacao_total = }\n",
        "        \"\"\")\n",
        "\n",
        "    def __str__(self)->str:\n",
        "        return f\"\"\"\n",
        "            {self.cod_fabrica = }\n",
        "            {self.qtde_fabricada = }\n",
        "            {FabricaVeiculo.fabricacao_total = }\n",
        "        \"\"\"\n"
      ],
      "metadata": {
        "id": "H45Zq_hA7EcU"
      },
      "execution_count": null,
      "outputs": []
    },
    {
      "cell_type": "markdown",
      "source": [
        "### <font color=\"yellow\">Vamos instanciar filiais e fabricar alguns veículos </font>"
      ],
      "metadata": {
        "id": "JWOdodf4Etyt"
      }
    },
    {
      "cell_type": "code",
      "source": [
        "fab1 = FabricaVeiculo(1)\n",
        "fab1.fabricar(5)\n",
        "fab2 = FabricaVeiculo(2)\n",
        "fab2.fabricar(7)\n",
        "fab3 = FabricaVeiculo(3)\n",
        "fab3.fabricar(9)"
      ],
      "metadata": {
        "id": "Uo6ddvKIEtyt"
      },
      "execution_count": null,
      "outputs": []
    },
    {
      "cell_type": "markdown",
      "source": [
        "### <font color=\"yellow\">Imprimir as instâncias </font>"
      ],
      "metadata": {
        "id": "v7Bb9J0nEt79"
      }
    },
    {
      "cell_type": "code",
      "source": [
        "print(fab1)\n",
        "print(fab2)\n",
        "print(fab3)\n"
      ],
      "metadata": {
        "id": "saJA69AREt79"
      },
      "execution_count": null,
      "outputs": []
    },
    {
      "cell_type": "markdown",
      "source": [
        "### <font color=\"yellow\">Fabricar masi veículos</font>"
      ],
      "metadata": {
        "id": "N6_AhDoSEt_0"
      }
    },
    {
      "cell_type": "code",
      "source": [
        "fab1.fabricar(5)\n",
        "fab2.fabricar(3)\n",
        "fab3.fabricar(1)"
      ],
      "metadata": {
        "id": "zVPkXKhbEt_0"
      },
      "execution_count": null,
      "outputs": []
    },
    {
      "cell_type": "markdown",
      "source": [
        "### <font color=\"yellow\">Imprimir os objetos novamente </font>"
      ],
      "metadata": {
        "id": "sTIoKg94EuCc"
      }
    },
    {
      "cell_type": "code",
      "source": [
        "print(fab1)\n",
        "print(fab2)\n",
        "print(fab3)\n"
      ],
      "metadata": {
        "id": "lllD0OyAEuCd"
      },
      "execution_count": null,
      "outputs": []
    },
    {
      "cell_type": "markdown",
      "source": [
        "# <font color=\"yellow\">__ dict __</font>"
      ],
      "metadata": {
        "id": "MvhyKEVREuKR"
      }
    },
    {
      "cell_type": "markdown",
      "source": [
        "### <font color=\"yellow\">É um dicionário que armazena as propriedades do objeto</font>"
      ],
      "metadata": {
        "id": "tbl35ccbEuLM"
      }
    },
    {
      "cell_type": "code",
      "source": [
        "fab1.__dict__"
      ],
      "metadata": {
        "id": "OkS96ZQlEuKR"
      },
      "execution_count": null,
      "outputs": []
    },
    {
      "cell_type": "markdown",
      "source": [
        "### <font color=\"yellow\">Acessando apenas uma propriedade do obejto. </font>"
      ],
      "metadata": {
        "id": "e8Ck7uMzLKcF"
      }
    },
    {
      "cell_type": "code",
      "source": [
        "fab3.__dict__['qtde_fabricada']"
      ],
      "metadata": {
        "id": "tTLG-i7u6zk9"
      },
      "execution_count": null,
      "outputs": []
    },
    {
      "cell_type": "markdown",
      "source": [
        "### <font color=\"yellow\">A função vars() imprime a __ dict__ de um obejto. </font>"
      ],
      "metadata": {
        "id": "1V3qI1nnEuMD"
      }
    },
    {
      "cell_type": "code",
      "source": [
        "vars(fab1)"
      ],
      "metadata": {
        "id": "FBTVNh2VEuLM"
      },
      "execution_count": null,
      "outputs": []
    },
    {
      "cell_type": "markdown",
      "source": [
        "---\n",
        "# <font color=\"yellow\">**Método de classe** </font>\n",
        "---\n",
        "\n"
      ],
      "metadata": {
        "id": "pU71UiTTIgZH"
      }
    },
    {
      "cell_type": "markdown",
      "source": [
        "### <font color=\"yellow\">**@classmethod** é o decorador usado pela linguagem Python para definir quais métodos são de classe.  </font>\n",
        "\n"
      ],
      "metadata": {
        "id": "XroDJQI2IlpE"
      }
    },
    {
      "cell_type": "markdown",
      "source": [
        "## <font color=\"orange\">**Como exercício:**\n",
        "1.   Criar um método de classe para a classe FabricaVeiculo;\n",
        "2.   Instaciar objetos de classe;\n",
        "3. Testar o método de classe com esses objetos.\n",
        "\n",
        "</font>"
      ],
      "metadata": {
        "id": "gNxJ4FpYMoF-"
      }
    },
    {
      "cell_type": "code",
      "source": [
        "class FabricaVeiculo:\n",
        "\n",
        "    # uma propriedade de classe\n",
        "    fabricacao_total = 0\n",
        "    # outra propriedade de classe\n",
        "    fabricas:list[FabricaVeiculo] = []\n",
        "\n",
        "    def __init__(self, cod_fabrica:str)->None:\n",
        "        self.cod_fabrica:str = cod_fabrica\n",
        "        self.qtde_fabricada = 0\n",
        "        FabricaVeiculo.fabricas.append(self)\n",
        "\n",
        "    def fabricar(self, qtde)->None:\n",
        "        self.qtde_fabricada += qtde\n",
        "        FabricaVeiculo.fabricacao_total += qtde\n",
        "\n",
        "    @classmethod\n",
        "    def fabricas_criadas(cls)->list[FabricaVeiculo]:\n",
        "        return cls.fabricas\n",
        "\n",
        "    def __str__(self)->str:\n",
        "        return f\"\"\"\n",
        "            {self.cod_fabrica = }\n",
        "            {self.qtde_fabricada = }\n",
        "            {FabricaVeiculo.fabricacao_total = }\n",
        "        \"\"\"\n"
      ],
      "metadata": {
        "id": "pvTjFTd4MIz2"
      },
      "execution_count": 51,
      "outputs": []
    },
    {
      "cell_type": "markdown",
      "source": [
        "### <font color=\"yellow\">Instanciar objetos da classe FabricaVeiculo </font>"
      ],
      "metadata": {
        "id": "gGOVHXU-ImPq"
      }
    },
    {
      "cell_type": "code",
      "source": [
        "fab1 = FabricaVeiculo(\"A101\")\n",
        "fab1.fabricar(5)\n",
        "fab2 = FabricaVeiculo(\"B102\")\n",
        "fab2.fabricar(10)\n",
        "fab3 = FabricaVeiculo(\"C103\")\n",
        "fab3.fabricar(15)"
      ],
      "metadata": {
        "id": "HI5TbllNEuM7"
      },
      "execution_count": 52,
      "outputs": []
    },
    {
      "cell_type": "markdown",
      "source": [
        "### <font color=\"yellow\">Acessar a lista de fábricas e imprimir cada uma </font>"
      ],
      "metadata": {
        "id": "DBPabk6_EuN8"
      }
    },
    {
      "cell_type": "code",
      "source": [
        "for fab in FabricaVeiculo.fabricas:\n",
        "    print(fab)"
      ],
      "metadata": {
        "id": "VTg-jw3nEuN8",
        "colab": {
          "base_uri": "https://localhost:8080/"
        },
        "outputId": "8a57d628-bd19-4120-e57c-1b357064f14a"
      },
      "execution_count": 53,
      "outputs": [
        {
          "output_type": "stream",
          "name": "stdout",
          "text": [
            "\n",
            "            self.cod_fabrica = 'A101'\n",
            "            self.qtde_fabricada = 5\n",
            "            FabricaVeiculo.fabricacao_total = 30\n",
            "        \n",
            "\n",
            "            self.cod_fabrica = 'B102'\n",
            "            self.qtde_fabricada = 10\n",
            "            FabricaVeiculo.fabricacao_total = 30\n",
            "        \n",
            "\n",
            "            self.cod_fabrica = 'C103'\n",
            "            self.qtde_fabricada = 15\n",
            "            FabricaVeiculo.fabricacao_total = 30\n",
            "        \n"
          ]
        }
      ]
    },
    {
      "cell_type": "markdown",
      "source": [
        "### <font color=\"yellow\">. </font>"
      ],
      "metadata": {
        "id": "EHtW3eqjEuO3"
      }
    },
    {
      "cell_type": "code",
      "source": [],
      "metadata": {
        "id": "BSSdAJxkEuO4"
      },
      "execution_count": null,
      "outputs": []
    },
    {
      "cell_type": "markdown",
      "source": [
        "### <font color=\"yellow\">. </font>"
      ],
      "metadata": {
        "id": "q6rBZofpEuP0"
      }
    },
    {
      "cell_type": "code",
      "source": [],
      "metadata": {
        "id": "vdgusa9lEuP0"
      },
      "execution_count": null,
      "outputs": []
    },
    {
      "cell_type": "markdown",
      "source": [
        "### <font color=\"yellow\">. </font>"
      ],
      "metadata": {
        "id": "FbceJiBzEuQw"
      }
    },
    {
      "cell_type": "code",
      "source": [],
      "metadata": {
        "id": "433L61mIEuQw"
      },
      "execution_count": null,
      "outputs": []
    },
    {
      "cell_type": "markdown",
      "source": [
        "### <font color=\"yellow\">. </font>"
      ],
      "metadata": {
        "id": "kfP_K67ZEuRs"
      }
    },
    {
      "cell_type": "code",
      "source": [],
      "metadata": {
        "id": "wHaD83uQEuRt"
      },
      "execution_count": null,
      "outputs": []
    },
    {
      "cell_type": "markdown",
      "source": [
        "### <font color=\"yellow\">. </font>"
      ],
      "metadata": {
        "id": "12xIPUXLEuSn"
      }
    },
    {
      "cell_type": "code",
      "source": [],
      "metadata": {
        "id": "UNKVJ0RCEuSo"
      },
      "execution_count": null,
      "outputs": []
    },
    {
      "cell_type": "markdown",
      "source": [
        "### <font color=\"yellow\">. </font>"
      ],
      "metadata": {
        "id": "n7bL6o3dEuTj"
      }
    },
    {
      "cell_type": "code",
      "source": [],
      "metadata": {
        "id": "GEcZWPBWEuTj"
      },
      "execution_count": null,
      "outputs": []
    },
    {
      "cell_type": "markdown",
      "source": [
        "### <font color=\"yellow\">. </font>"
      ],
      "metadata": {
        "id": "tgQdtLSIEuUe"
      }
    },
    {
      "cell_type": "code",
      "source": [],
      "metadata": {
        "id": "exAqCFTMEuUe"
      },
      "execution_count": null,
      "outputs": []
    },
    {
      "cell_type": "markdown",
      "source": [
        "### <font color=\"yellow\">. </font>"
      ],
      "metadata": {
        "id": "BAA-lTyEEuVZ"
      }
    },
    {
      "cell_type": "code",
      "source": [],
      "metadata": {
        "id": "CpdY-J2DEuVZ"
      },
      "execution_count": null,
      "outputs": []
    },
    {
      "cell_type": "markdown",
      "source": [
        "### <font color=\"yellow\">. </font>"
      ],
      "metadata": {
        "id": "h3KVt2p_EuWi"
      }
    },
    {
      "cell_type": "code",
      "source": [],
      "metadata": {
        "id": "xDhsQZDvEuWi"
      },
      "execution_count": null,
      "outputs": []
    },
    {
      "cell_type": "markdown",
      "source": [
        "### <font color=\"yellow\">. </font>"
      ],
      "metadata": {
        "id": "PKFXaysEEuX-"
      }
    },
    {
      "cell_type": "code",
      "source": [],
      "metadata": {
        "id": "emELT7DLEuYA"
      },
      "execution_count": null,
      "outputs": []
    },
    {
      "cell_type": "markdown",
      "source": [
        "### <font color=\"yellow\">. </font>"
      ],
      "metadata": {
        "id": "Y_9NjeGxEuZZ"
      }
    },
    {
      "cell_type": "code",
      "source": [],
      "metadata": {
        "id": "7Z-IWEeJEuZa"
      },
      "execution_count": null,
      "outputs": []
    },
    {
      "cell_type": "markdown",
      "source": [
        "### <font color=\"yellow\">. </font>"
      ],
      "metadata": {
        "id": "evD6eqSVEuaY"
      }
    },
    {
      "cell_type": "code",
      "source": [],
      "metadata": {
        "id": "jOQ0OVrqEuaY"
      },
      "execution_count": null,
      "outputs": []
    },
    {
      "cell_type": "markdown",
      "source": [
        "### <font color=\"yellow\">. </font>"
      ],
      "metadata": {
        "id": "wyV0s9YiEubX"
      }
    },
    {
      "cell_type": "code",
      "source": [],
      "metadata": {
        "id": "oZmzhcDxEubX"
      },
      "execution_count": null,
      "outputs": []
    },
    {
      "cell_type": "markdown",
      "source": [
        "### <font color=\"yellow\">. </font>"
      ],
      "metadata": {
        "id": "81VUgG7IEudG"
      }
    },
    {
      "cell_type": "code",
      "source": [],
      "metadata": {
        "id": "aJaUk2MBEudG"
      },
      "execution_count": null,
      "outputs": []
    },
    {
      "cell_type": "markdown",
      "source": [
        "### <font color=\"yellow\">. </font>"
      ],
      "metadata": {
        "id": "RMG9rsPzEueF"
      }
    },
    {
      "cell_type": "code",
      "source": [],
      "metadata": {
        "id": "6WtbX7yWEueF"
      },
      "execution_count": null,
      "outputs": []
    },
    {
      "cell_type": "markdown",
      "source": [
        "### <font color=\"yellow\">. </font>"
      ],
      "metadata": {
        "id": "G-DIkOLUEufD"
      }
    },
    {
      "cell_type": "code",
      "source": [],
      "metadata": {
        "id": "Fa8FbvcgEufD"
      },
      "execution_count": null,
      "outputs": []
    },
    {
      "cell_type": "markdown",
      "source": [
        "### <font color=\"yellow\">. </font>"
      ],
      "metadata": {
        "id": "YaEK4stxEugD"
      }
    },
    {
      "cell_type": "code",
      "source": [],
      "metadata": {
        "id": "5hyKZtHFEugD"
      },
      "execution_count": null,
      "outputs": []
    },
    {
      "cell_type": "markdown",
      "source": [
        "### <font color=\"yellow\">. </font>"
      ],
      "metadata": {
        "id": "ylQZDSnSEuhD"
      }
    },
    {
      "cell_type": "code",
      "source": [],
      "metadata": {
        "id": "xavpDNPuEuhD"
      },
      "execution_count": null,
      "outputs": []
    },
    {
      "cell_type": "markdown",
      "source": [
        "### <font color=\"yellow\">. </font>"
      ],
      "metadata": {
        "id": "TvIyTqY3EuiE"
      }
    },
    {
      "cell_type": "code",
      "source": [],
      "metadata": {
        "id": "4YfF6--nEuiE"
      },
      "execution_count": null,
      "outputs": []
    },
    {
      "cell_type": "markdown",
      "source": [
        "### <font color=\"yellow\">. </font>"
      ],
      "metadata": {
        "id": "7mWONbkAEujF"
      }
    },
    {
      "cell_type": "code",
      "source": [],
      "metadata": {
        "id": "52ztSPtyEujF"
      },
      "execution_count": null,
      "outputs": []
    },
    {
      "cell_type": "markdown",
      "source": [
        "### <font color=\"yellow\">. </font>"
      ],
      "metadata": {
        "id": "RD8PkXhfEukJ"
      }
    },
    {
      "cell_type": "code",
      "source": [],
      "metadata": {
        "id": "L5okNiMfEukJ"
      },
      "execution_count": null,
      "outputs": []
    },
    {
      "cell_type": "markdown",
      "source": [
        "### <font color=\"yellow\">. </font>"
      ],
      "metadata": {
        "id": "fHZxUMZXEulL"
      }
    },
    {
      "cell_type": "code",
      "source": [],
      "metadata": {
        "id": "bYb8lr4lEulL"
      },
      "execution_count": null,
      "outputs": []
    },
    {
      "cell_type": "markdown",
      "source": [
        "### <font color=\"yellow\">. </font>"
      ],
      "metadata": {
        "id": "qyW3hac7EumN"
      }
    },
    {
      "cell_type": "code",
      "source": [],
      "metadata": {
        "id": "Ewx1XwgGEumO"
      },
      "execution_count": null,
      "outputs": []
    },
    {
      "cell_type": "markdown",
      "source": [
        "### <font color=\"yellow\">. </font>"
      ],
      "metadata": {
        "id": "-ZLtZE4tEunR"
      }
    },
    {
      "cell_type": "code",
      "source": [],
      "metadata": {
        "id": "3-ZZXTChEunS"
      },
      "execution_count": null,
      "outputs": []
    },
    {
      "cell_type": "markdown",
      "source": [
        "### <font color=\"yellow\">. </font>"
      ],
      "metadata": {
        "id": "b39xzTeREuoU"
      }
    },
    {
      "cell_type": "code",
      "source": [],
      "metadata": {
        "id": "oO019aKcEuoV"
      },
      "execution_count": null,
      "outputs": []
    }
  ]
}
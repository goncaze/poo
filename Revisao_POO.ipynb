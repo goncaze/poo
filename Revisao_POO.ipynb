{
  "nbformat": 4,
  "nbformat_minor": 0,
  "metadata": {
    "colab": {
      "provenance": [],
      "include_colab_link": true
    },
    "kernelspec": {
      "name": "python3",
      "display_name": "Python 3"
    },
    "language_info": {
      "name": "python"
    }
  },
  "cells": [
    {
      "cell_type": "markdown",
      "metadata": {
        "id": "view-in-github",
        "colab_type": "text"
      },
      "source": [
        "<a href=\"https://colab.research.google.com/github/goncaze/poo/blob/main/Revisao_POO.ipynb\" target=\"_parent\"><img src=\"https://colab.research.google.com/assets/colab-badge.svg\" alt=\"Open In Colab\"/></a>"
      ]
    },
    {
      "cell_type": "markdown",
      "source": [
        "# <font color=\"orange\" align='center'><b>Classes e Objetos na linguagem Python</b></font>"
      ],
      "metadata": {
        "id": "v2PVhqNp1yBo"
      }
    },
    {
      "cell_type": "markdown",
      "source": [
        "---\n",
        "# <font color=\"orange\"><b>O básico de POO em Python</b></font>\n",
        "---"
      ],
      "metadata": {
        "id": "1NuQdtu4BZpG"
      }
    },
    {
      "cell_type": "markdown",
      "source": [
        "### <font color='orange'>Para criar uma classe, use a palavra-chave class</font>"
      ],
      "metadata": {
        "id": "i1lwGMof2D5y"
      }
    },
    {
      "cell_type": "code",
      "execution_count": null,
      "metadata": {
        "id": "vxlC5Lu102IH"
      },
      "outputs": [],
      "source": [
        "class Veiculo:\n",
        "    pass\n",
        "\n",
        "# A palavra reservada \"pass\" é utilizada para indicar um elaboração de um código futuro.\n",
        "# Asim, evita-se que ocarra um erro durante a execução."
      ]
    },
    {
      "cell_type": "markdown",
      "source": [
        "### <font color=\"orange\">Para criar um objeto da classe Fábrica </font>"
      ],
      "metadata": {
        "id": "KF9_PtMp3me3"
      }
    },
    {
      "cell_type": "code",
      "source": [
        "carro1 = Veiculo()"
      ],
      "metadata": {
        "id": "iWYk2QLw23Sa"
      },
      "execution_count": null,
      "outputs": []
    },
    {
      "cell_type": "markdown",
      "source": [
        "### <font color=\"orange\">Formas de como determinar o tipo de um objeto:</font>"
      ],
      "metadata": {
        "id": "mikasMlm4xN1"
      }
    },
    {
      "cell_type": "code",
      "source": [
        "type(carro1)"
      ],
      "metadata": {
        "id": "I7vZnC0M359i"
      },
      "execution_count": null,
      "outputs": []
    },
    {
      "cell_type": "code",
      "source": [
        "type(carro1).__name__ == \"veiculo\""
      ],
      "metadata": {
        "id": "vZPvpNce57TE"
      },
      "execution_count": null,
      "outputs": []
    },
    {
      "cell_type": "code",
      "source": [
        "isinstance(carro1, Veiculo)"
      ],
      "metadata": {
        "id": "w3nfSbt06D2W"
      },
      "execution_count": null,
      "outputs": []
    },
    {
      "cell_type": "code",
      "source": [
        "carro1.__class__.__name__ == \"veiculo\""
      ],
      "metadata": {
        "id": "7kFGw5-36KT3"
      },
      "execution_count": null,
      "outputs": []
    },
    {
      "cell_type": "markdown",
      "source": [
        "### <font color=\"orange\">Método <b>\"__ init __\"</b> que é invocado na criação de um objeto de qualquer classe  </font>"
      ],
      "metadata": {
        "id": "RZaj24bX4xue"
      }
    },
    {
      "cell_type": "code",
      "source": [
        "class Veiculo:\n",
        "    def __init__(self) -> None:\n",
        "        pass"
      ],
      "metadata": {
        "id": "wJuKz-GO4yW1"
      },
      "execution_count": null,
      "outputs": []
    },
    {
      "cell_type": "markdown",
      "source": [
        "### <font color=\"orange\"> Podemos declarar propriedades da classe e inicializálos através do método init </font>"
      ],
      "metadata": {
        "id": "KB-qOhrw7DbG"
      }
    },
    {
      "cell_type": "code",
      "source": [
        "class Veiculo:\n",
        "    def __init__(self, modelo, marca) -> None:\n",
        "        self.modelo = modelo\n",
        "        self.marca = marca\n"
      ],
      "metadata": {
        "id": "H-Sv73el7DbN"
      },
      "execution_count": null,
      "outputs": []
    },
    {
      "cell_type": "markdown",
      "source": [
        "### <font color=\"orange\">TESTE: instanciar objeto da classe Veículo</font>"
      ],
      "metadata": {
        "id": "iwH1YRfQ7Dot"
      }
    },
    {
      "cell_type": "code",
      "source": [
        "carro1 = Veiculo(\"Ford Ka\", \"Ford\")\n"
      ],
      "metadata": {
        "id": "qfeE-iG07Dou"
      },
      "execution_count": null,
      "outputs": []
    },
    {
      "cell_type": "markdown",
      "source": [
        "### <font color=\"orange\">Imprimir o objeto carro1</font>"
      ],
      "metadata": {
        "id": "ujk5-FuUjc1q"
      }
    },
    {
      "cell_type": "code",
      "source": [
        "print(f\"{carro1 =}\")\n"
      ],
      "metadata": {
        "id": "DRmy7Cy9jc1v"
      },
      "execution_count": null,
      "outputs": []
    },
    {
      "cell_type": "markdown",
      "source": [
        "### <font color=\"orange\">Imprimir os atributos do objeto carro1</font>"
      ],
      "metadata": {
        "id": "Jj3Nzvuljwir"
      }
    },
    {
      "cell_type": "code",
      "source": [
        "print(f\"{carro1.modelo =}\")\n",
        "print(f\"{carro1.marca =}\")\n"
      ],
      "metadata": {
        "id": "3Yu-6vWxjwiy"
      },
      "execution_count": null,
      "outputs": []
    },
    {
      "cell_type": "markdown",
      "source": [
        "### <font color=\"orange\">Método \"__ str __\" é invocado quando o objeto é impresso. Por ex.: print(objeto)  </font>"
      ],
      "metadata": {
        "id": "24L2Hfry7Dt0"
      }
    },
    {
      "cell_type": "code",
      "source": [
        "class Veiculo:\n",
        "    def __init__(self, modelo, marca) -> None:\n",
        "        self.modelo = modelo\n",
        "        self.marca = marca\n",
        "\n",
        "    def __str__(self) -> str:\n",
        "        return f\"\"\"\n",
        "            {self.modelo =}\n",
        "            {self.marca =}\n",
        "        \"\"\""
      ],
      "metadata": {
        "id": "2BgYgmLX7Dt0"
      },
      "execution_count": null,
      "outputs": []
    },
    {
      "cell_type": "markdown",
      "source": [
        "### <font color=\"orange\">Imprimir objeto usando método \"__ str __\" </font>"
      ],
      "metadata": {
        "id": "O0rAogjilGrE"
      }
    },
    {
      "cell_type": "code",
      "source": [
        "carro1 = Veiculo(\"Ford Ka\", \"Ford\")\n",
        "\n",
        "print(carro1)"
      ],
      "metadata": {
        "id": "qg0V97m9k3QE"
      },
      "execution_count": null,
      "outputs": []
    },
    {
      "cell_type": "markdown",
      "source": [
        "### <font color=\"orange\">Métodos de objeto </font>"
      ],
      "metadata": {
        "id": "3GOg8JJ07Dxc"
      }
    },
    {
      "cell_type": "code",
      "source": [
        "class Veiculo:\n",
        "    def __init__(self, modelo, marca) -> None:\n",
        "        self.modelo = modelo\n",
        "        self.marca = marca\n",
        "\n",
        "\n",
        "    # EXEMPLO DE MÉTODO DO OBJETO\n",
        "    def buzinar(self)->None:\n",
        "        print(\"Bi-bi...\")\n",
        "\n",
        "\n",
        "    def __str__(self) -> str:\n",
        "        return f\"\"\"\n",
        "            {self.modelo =}\n",
        "            {self.marca =}\n",
        "        \"\"\""
      ],
      "metadata": {
        "id": "ud7pCh567Dxc"
      },
      "execution_count": null,
      "outputs": []
    },
    {
      "cell_type": "markdown",
      "source": [
        "### <font color=\"orange\">Criar objeto da classe Veículo e invocar o método buzinar </font>"
      ],
      "metadata": {
        "id": "fWFw92we7D02"
      }
    },
    {
      "cell_type": "code",
      "source": [
        "carro1 = Veiculo(\"Ford Ka\", \"Ford\")\n",
        "\n",
        "carro1.buzinar()"
      ],
      "metadata": {
        "id": "aFdtkOQb7D02"
      },
      "execution_count": null,
      "outputs": []
    },
    {
      "cell_type": "markdown",
      "source": [
        "### <font color=\"orange\">Modificar propriedades do objeto</font>"
      ],
      "metadata": {
        "id": "mrpNxstG7D4G"
      }
    },
    {
      "cell_type": "code",
      "source": [
        "carro1.modelo = \"Fiat Pulse\"\n",
        "carro1.marca = \"Fiat\"\n",
        "\n",
        "print(carro1)"
      ],
      "metadata": {
        "id": "p4YbTuot7D4G"
      },
      "execution_count": null,
      "outputs": []
    },
    {
      "cell_type": "markdown",
      "source": [
        "### <font color=\"orange\">Modificador de acesso de leitura (Getter) das propriedades do objeto</font>"
      ],
      "metadata": {
        "id": "8avYeXN-7D7M"
      }
    },
    {
      "cell_type": "code",
      "source": [
        "class Veiculo:\n",
        "\n",
        "    def __init__(self, modelo, marca) -> None:\n",
        "        self._propriedade_teste = 0\n",
        "\n",
        "\n",
        "    # Exemplo de modificador de acesso de leitura de uma propriedade\n",
        "    # O decorador @property  transforma o método valor_teste() em um “getter” somente leitura para um atributo com o mesmo nome da propriedade _propriedade_teste.\n",
        "    @property\n",
        "    def propriedade_teste(self)->int:\n",
        "        # insirá código aqui antes de retornar o valor da propriedade\n",
        "        self._propriedade_teste += 1 # esta linha serve para mostrar um efeito do uso de @property\n",
        "        return self._propriedade_teste\n",
        "\n",
        "\n",
        "    def __str__(self) -> str:\n",
        "        return f\"\"\"\n",
        "            {self._propriedade_teste = }\n",
        "        \"\"\""
      ],
      "metadata": {
        "id": "ZBSRZg4t7D7M"
      },
      "execution_count": null,
      "outputs": []
    },
    {
      "cell_type": "markdown",
      "source": [
        "### <font color=\"orange\"> Instanciar objeto da classe Veiculo </font>"
      ],
      "metadata": {
        "id": "nfWxamGW7D92"
      }
    },
    {
      "cell_type": "code",
      "source": [
        "carro2 = Veiculo(\"Kardian\", \"Renault\")\n",
        "\n",
        "print(carro2)"
      ],
      "metadata": {
        "id": "gh-BNk5P7D92"
      },
      "execution_count": null,
      "outputs": []
    },
    {
      "cell_type": "markdown",
      "source": [
        "### <font color=\"orange\">Testar modificador de acesso de leitura (Getter)</font>"
      ],
      "metadata": {
        "id": "cxBaJGeS7EAk"
      }
    },
    {
      "cell_type": "code",
      "source": [
        "print(f\"{carro2.propriedade_teste = }\")"
      ],
      "metadata": {
        "id": "SdgPJTaH7EDn"
      },
      "execution_count": null,
      "outputs": []
    },
    {
      "cell_type": "markdown",
      "source": [
        "### <font color=\"orange\">Modificador de acesso de atribuição (Setter) das propriedades do objeto</font>"
      ],
      "metadata": {
        "id": "fTQfhlwP7EE9"
      }
    },
    {
      "cell_type": "code",
      "source": [
        "class Veiculo:\n",
        "\n",
        "    def __init__(self, modelo, marca) -> None:\n",
        "        self._propriedade_teste = 0\n",
        "\n",
        "\n",
        "    @property\n",
        "    def propriedade_teste(self)->int:\n",
        "        return self._propriedade_teste\n",
        "\n",
        "    # Exemplo de modificador de acesso de atribuição de uma propriedade\n",
        "    # O decorador @atributo.setter transforma o método propriedade_teste() em um “setter” permitindo a atribuição de novo valor  para a propriedade _propriedade_teste.\n",
        "    @propriedade_teste.setter\n",
        "    def propriedade_teste(self, novo_valor)->None:\n",
        "        # insirá código aqui antes de alterar o valor da propriedade\n",
        "        self._propriedade_teste += novo_valor * 2 # esta linha serve para mostrar um efeito do uso de @setter\n",
        "        return self._propriedade_teste\n",
        "\n",
        "\n",
        "    def __str__(self) -> str:\n",
        "        return f\"\"\"\n",
        "            {self._propriedade_teste = }\n",
        "        \"\"\""
      ],
      "metadata": {
        "id": "Je7Bu_Yl7EE9"
      },
      "execution_count": null,
      "outputs": []
    },
    {
      "cell_type": "markdown",
      "source": [
        "### <font color=\"orange\"> Instanciar objeto da classe Veiculo </font>"
      ],
      "metadata": {
        "id": "NLHWPxVe7EIM"
      }
    },
    {
      "cell_type": "code",
      "source": [
        "carro3 = Veiculo(\"SW4\", \"Toyota\")\n",
        "\n",
        "print(carro3)"
      ],
      "metadata": {
        "id": "_NQlPWcu7EIM"
      },
      "execution_count": null,
      "outputs": []
    },
    {
      "cell_type": "markdown",
      "source": [
        "### <font color=\"orange\">Testar modificador de acesso de atribuição (Setter)</font>"
      ],
      "metadata": {
        "id": "TY9JNJev7ELE"
      }
    },
    {
      "cell_type": "code",
      "source": [
        "carro3.propriedade_teste = 7\n",
        "\n",
        "print(carro3)"
      ],
      "metadata": {
        "id": "5q0HI9_07ELE"
      },
      "execution_count": null,
      "outputs": []
    },
    {
      "cell_type": "markdown",
      "source": [
        "### <font color=\"orange\">Implementar modificadores de acesso de leitura/atribuição (Getter/Setter) para todas as propriedades da classe </font>"
      ],
      "metadata": {
        "id": "Lo66tAeT7EDn"
      }
    },
    {
      "cell_type": "code",
      "source": [
        "class Veiculo:\n",
        "\n",
        "    def __init__(self, modelo:str=\"\", marca:str=\"\") -> None:\n",
        "        self._modelo:str = modelo\n",
        "        self._marca:str = marca\n",
        "\n",
        "\n",
        "    # Exemplo de modificador de acesso de leitura de uma propriedade\n",
        "    @property\n",
        "    def modelo(self)->str:\n",
        "        # ... ... <- insirá código aqui antes de retornar o valor da propriedade\n",
        "        return self._modelo\n",
        "\n",
        "\n",
        "    # Exemplo de modificador de acesso de leitura de uma propriedade\n",
        "    @property\n",
        "    def marca(self)->str:\n",
        "        # ... ... <- insirá código aqui antes de retornar o valor da propriedade\n",
        "        return self._marca\n",
        "\n",
        "\n",
        "    @modelo.setter\n",
        "    def modelo(self, novo_valor)->None:\n",
        "        # ... ... <- insirá código aqui antes de alterar o valor da propriedade\n",
        "        self._modelo = novo_valor\n",
        "\n",
        "\n",
        "    @marca.setter\n",
        "    def marca(self, novo_valor)->None:\n",
        "        # ... ... <- insirá código aqui antes de alterar o valor da propriedade\n",
        "        self._marca = novo_valor\n",
        "\n",
        "\n",
        "    def buzinar(self)->None:\n",
        "        print(\"Bi-bi...\")\n",
        "\n",
        "\n",
        "    def __str__(self) -> str:\n",
        "        return f\"\"\"\n",
        "            {carro1.modelo =}\n",
        "            {carro1.marca =}\n",
        "        \"\"\""
      ],
      "metadata": {
        "id": "oeyVF4vK7EAk"
      },
      "execution_count": null,
      "outputs": []
    },
    {
      "cell_type": "markdown",
      "source": [
        "---\n",
        "# <font color=\"orange\">**Herança Python** </font>\n",
        "---\n",
        "\n"
      ],
      "metadata": {
        "id": "g9ozRxC37ENs"
      }
    },
    {
      "cell_type": "markdown",
      "source": [
        "### <font color=\"orange\">Classe pai ou classe base </font>"
      ],
      "metadata": {
        "id": "pSB4Ho1OCMWq"
      }
    },
    {
      "cell_type": "code",
      "source": [
        "class Pessoa:\n",
        "    def __init__(self, nome, idade) -> None:\n",
        "        self.nome = nome\n",
        "        self.idade = idade\n",
        "\n",
        "    def __str__(self) -> str:\n",
        "        return f\"\"\"\n",
        "            {self.nome = }\n",
        "            {self.idade = }\n",
        "        \"\"\""
      ],
      "metadata": {
        "id": "tzezNgU77ENs"
      },
      "execution_count": null,
      "outputs": []
    },
    {
      "cell_type": "markdown",
      "source": [
        "### <font color=\"orange\">Testar um objeto da classe Pessoa </font>"
      ],
      "metadata": {
        "id": "NRCIGldG7ES_"
      }
    },
    {
      "cell_type": "code",
      "source": [
        "p1 = Pessoa(\"Joana Darc\", 22)\n",
        "\n",
        "print(p1)"
      ],
      "metadata": {
        "id": "iM73aP877ES_"
      },
      "execution_count": null,
      "outputs": []
    },
    {
      "cell_type": "markdown",
      "source": [
        "### <font color=\"orange\">Classe filha ou classe derivada </font>"
      ],
      "metadata": {
        "id": "-5yTcW7G7EQm"
      }
    },
    {
      "cell_type": "code",
      "source": [
        "class Estudante(Pessoa):\n",
        "    pass\n"
      ],
      "metadata": {
        "id": "sGbICzqb7EQm"
      },
      "execution_count": null,
      "outputs": []
    },
    {
      "cell_type": "markdown",
      "source": [
        "### <font color=\"orange\">Testar um objeto da classe filha ou derivada</font>"
      ],
      "metadata": {
        "id": "aPXp3RyS7EVm"
      }
    },
    {
      "cell_type": "code",
      "source": [
        "e1 = Estudante(\"Mikhele Alíh\", 22)\n",
        "\n",
        "print(e1)"
      ],
      "metadata": {
        "id": "Wjxf3arR7EZu"
      },
      "execution_count": null,
      "outputs": []
    },
    {
      "cell_type": "markdown",
      "source": [
        "### <font color=\"orange\">Classe filha/derivada usando método init</font>"
      ],
      "metadata": {
        "id": "XksDrZYJ7EZu"
      }
    },
    {
      "cell_type": "code",
      "source": [
        "class Estudante(Pessoa):\n",
        "\n",
        "    def __init__(self, nome, idade) -> None:\n",
        "        super().__init__(nome, idade)\n"
      ],
      "metadata": {
        "id": "TtjIuzLm7EVm"
      },
      "execution_count": null,
      "outputs": []
    },
    {
      "cell_type": "markdown",
      "source": [
        "### <font color=\"orange\">Testar um objeto da classe filha ou derivada</font>"
      ],
      "metadata": {
        "id": "j29hTHf-E5Gt"
      }
    },
    {
      "cell_type": "code",
      "source": [
        "e2 = Estudante(\"Airton Senna\", 32)\n",
        "\n",
        "print(e2)"
      ],
      "metadata": {
        "id": "cGqcev7xE5Gz"
      },
      "execution_count": null,
      "outputs": []
    },
    {
      "cell_type": "markdown",
      "source": [
        "### <font color=\"orange\">Classe filha/derivada com a propriedade curso</font>"
      ],
      "metadata": {
        "id": "T3LB51aiFUhp"
      }
    },
    {
      "cell_type": "code",
      "source": [
        "class Estudante(Pessoa):\n",
        "\n",
        "    def __init__(self, nome, idade, curso) -> None:\n",
        "        super().__init__(nome, idade)\n",
        "        self.curso = curso\n"
      ],
      "metadata": {
        "id": "kp63-6IvFUhv"
      },
      "execution_count": null,
      "outputs": []
    },
    {
      "cell_type": "markdown",
      "source": [
        "### <font color=\"orange\">Testar um objeto da classe filha ou derivada</font>"
      ],
      "metadata": {
        "id": "lStXFAdwFUhv"
      }
    },
    {
      "cell_type": "code",
      "source": [
        "e3 = Estudante(\"Albert Einstein\", 18, \"Física\")\n",
        "\n",
        "print(e3)"
      ],
      "metadata": {
        "id": "xkgNppAxFUhw"
      },
      "execution_count": null,
      "outputs": []
    },
    {
      "cell_type": "markdown",
      "source": [
        "### <font color=\"orange\">Classe filha/derivada sobrescrever o método STR</font>"
      ],
      "metadata": {
        "id": "ePt_OWkKGiFS"
      }
    },
    {
      "cell_type": "code",
      "source": [
        "class Estudante(Pessoa):\n",
        "\n",
        "    def __init__(self, nome, idade, curso) -> None:\n",
        "        super().__init__(nome, idade)\n",
        "        self.curso = curso\n",
        "\n",
        "    def __str__(self) -> str:\n",
        "        return f\"\"\"\n",
        "            {self.nome = }\n",
        "            {self.idade = }\n",
        "            {self.curso = }\n",
        "        \"\"\"\n"
      ],
      "metadata": {
        "id": "TiM4CzXmGiFY"
      },
      "execution_count": null,
      "outputs": []
    },
    {
      "cell_type": "markdown",
      "source": [
        "### <font color=\"orange\">Testar um objeto da classe filha ou derivada</font>"
      ],
      "metadata": {
        "id": "ExI8iHf_GiFZ"
      }
    },
    {
      "cell_type": "code",
      "source": [
        "e3 = Estudante(\"Albert Einstein\", 18, \"Física\")\n",
        "\n",
        "print(e3)"
      ],
      "metadata": {
        "id": "xS_wbl-IGiFZ"
      },
      "execution_count": null,
      "outputs": []
    },
    {
      "cell_type": "markdown",
      "source": [
        "---\n",
        "# <font color=\"orange\">**Atributo de classe** </font>\n",
        "---\n",
        "\n"
      ],
      "metadata": {
        "id": "LnFEmYBXzQ4N"
      }
    },
    {
      "cell_type": "markdown",
      "source": [
        "### <font color=\"orange\">Atributos de classe não são atributos de objetos</font>"
      ],
      "metadata": {
        "id": "10pwTtCP7EcU"
      }
    },
    {
      "cell_type": "code",
      "source": [
        "class FabricaVeiculo:\n",
        "\n",
        "    # uma propriedade de classe\n",
        "    fabricacao_total = 0\n",
        "\n",
        "    def __init__(self, cod_fabrica)->None:\n",
        "        self.cod_fabrica = cod_fabrica\n",
        "        self.qtde_fabricada = 0\n",
        "\n",
        "    def fabricar(self, qtde)->None:\n",
        "        self.qtde_fabricada += qtde\n",
        "        FabricaVeiculo.fabricacao_total += qtde\n",
        "        print(f\"\"\"\n",
        "            {self.cod_fabrica = }\n",
        "            {self.qtde_fabricada = }\n",
        "            {FabricaVeiculo.fabricacao_total = }\n",
        "        \"\"\")\n",
        "\n",
        "    def __str__(self)->str:\n",
        "        return f\"\"\"\n",
        "            {self.cod_fabrica = }\n",
        "            {self.qtde_fabricada = }\n",
        "            {FabricaVeiculo.fabricacao_total = }\n",
        "        \"\"\"\n"
      ],
      "metadata": {
        "id": "H45Zq_hA7EcU"
      },
      "execution_count": null,
      "outputs": []
    },
    {
      "cell_type": "markdown",
      "source": [
        "### <font color=\"orange\">Vamos instanciar filiais e fabricar alguns veículos </font>"
      ],
      "metadata": {
        "id": "JWOdodf4Etyt"
      }
    },
    {
      "cell_type": "code",
      "source": [
        "fab1 = FabricaVeiculo(1)\n",
        "fab1.fabricar(5)\n",
        "fab2 = FabricaVeiculo(2)\n",
        "fab2.fabricar(7)\n",
        "fab3 = FabricaVeiculo(3)\n",
        "fab3.fabricar(9)"
      ],
      "metadata": {
        "id": "Uo6ddvKIEtyt"
      },
      "execution_count": null,
      "outputs": []
    },
    {
      "cell_type": "markdown",
      "source": [
        "### <font color=\"orange\">Imprimir as instâncias </font>"
      ],
      "metadata": {
        "id": "v7Bb9J0nEt79"
      }
    },
    {
      "cell_type": "code",
      "source": [
        "print(fab1)\n",
        "print(fab2)\n",
        "print(fab3)\n"
      ],
      "metadata": {
        "id": "saJA69AREt79"
      },
      "execution_count": null,
      "outputs": []
    },
    {
      "cell_type": "markdown",
      "source": [
        "### <font color=\"orange\">Fabricar masi veículos</font>"
      ],
      "metadata": {
        "id": "N6_AhDoSEt_0"
      }
    },
    {
      "cell_type": "code",
      "source": [
        "fab1.fabricar(5)\n",
        "fab2.fabricar(3)\n",
        "fab3.fabricar(1)"
      ],
      "metadata": {
        "id": "zVPkXKhbEt_0"
      },
      "execution_count": null,
      "outputs": []
    },
    {
      "cell_type": "markdown",
      "source": [
        "### <font color=\"orange\">Imprimir os objetos novamente </font>"
      ],
      "metadata": {
        "id": "sTIoKg94EuCc"
      }
    },
    {
      "cell_type": "code",
      "source": [
        "print(fab1)\n",
        "print(fab2)\n",
        "print(fab3)\n"
      ],
      "metadata": {
        "id": "lllD0OyAEuCd"
      },
      "execution_count": null,
      "outputs": []
    },
    {
      "cell_type": "markdown",
      "source": [
        "# <font color=\"orange\">__ dict __</font>"
      ],
      "metadata": {
        "id": "MvhyKEVREuKR"
      }
    },
    {
      "cell_type": "markdown",
      "source": [
        "### <font color=\"orange\">É um dicionário que armazena as propriedades do objeto</font>"
      ],
      "metadata": {
        "id": "tbl35ccbEuLM"
      }
    },
    {
      "cell_type": "code",
      "source": [
        "fab1.__dict__"
      ],
      "metadata": {
        "id": "OkS96ZQlEuKR"
      },
      "execution_count": null,
      "outputs": []
    },
    {
      "cell_type": "markdown",
      "source": [
        "### <font color=\"orange\">Acessando apenas uma propriedade do obejto. </font>"
      ],
      "metadata": {
        "id": "e8Ck7uMzLKcF"
      }
    },
    {
      "cell_type": "code",
      "source": [
        "fab3.__dict__['qtde_fabricada']"
      ],
      "metadata": {
        "id": "tTLG-i7u6zk9"
      },
      "execution_count": null,
      "outputs": []
    },
    {
      "cell_type": "markdown",
      "source": [
        "### <font color=\"orange\">A função vars() imprime a __ dict__ de um obejto. </font>"
      ],
      "metadata": {
        "id": "1V3qI1nnEuMD"
      }
    },
    {
      "cell_type": "code",
      "source": [
        "vars(fab1)"
      ],
      "metadata": {
        "id": "FBTVNh2VEuLM"
      },
      "execution_count": null,
      "outputs": []
    },
    {
      "cell_type": "markdown",
      "source": [
        "---\n",
        "# <font color=\"orange\">**Método de classe** </font>\n",
        "---\n",
        "\n"
      ],
      "metadata": {
        "id": "pU71UiTTIgZH"
      }
    },
    {
      "cell_type": "markdown",
      "source": [
        "### <font color=\"orange\">**@classmethod** é o decorador usado pela linguagem Python para definir quais métodos são de classe.  </font>\n",
        "\n"
      ],
      "metadata": {
        "id": "XroDJQI2IlpE"
      }
    },
    {
      "cell_type": "markdown",
      "source": [
        "## <font color=\"orange\">**Como exercício:**\n",
        "1.   Criar um método de classe para a classe FabricaVeiculo;\n",
        "2.   Instaciar objetos de classe;\n",
        "3. Testar o método de classe com esses objetos.\n",
        "\n",
        "</font>"
      ],
      "metadata": {
        "id": "gNxJ4FpYMoF-"
      }
    },
    {
      "cell_type": "code",
      "source": [
        "class FabricaVeiculo:\n",
        "\n",
        "    # uma propriedade de classe\n",
        "    fabricacao_total = 0\n",
        "    # outra propriedade de classe\n",
        "    fabricas:list[FabricaVeiculo] = []\n",
        "\n",
        "    def __init__(self, cod_fabrica:str)->None:\n",
        "        self.cod_fabrica:str = cod_fabrica\n",
        "        self.qtde_fabricada = 0\n",
        "        FabricaVeiculo.fabricas.append(self)\n",
        "\n",
        "    def fabricar(self, qtde)->None:\n",
        "        self.qtde_fabricada += qtde\n",
        "        FabricaVeiculo.fabricacao_total += qtde\n",
        "\n",
        "    @classmethod\n",
        "    def fabricas_criadas(cls)->list[FabricaVeiculo]:\n",
        "        return cls.fabricas\n",
        "\n",
        "    def __str__(self)->str:\n",
        "        return f\"\"\"\n",
        "            {self.cod_fabrica = }\n",
        "            {self.qtde_fabricada = }\n",
        "            {FabricaVeiculo.fabricacao_total = }\n",
        "        \"\"\"\n"
      ],
      "metadata": {
        "id": "pvTjFTd4MIz2"
      },
      "execution_count": null,
      "outputs": []
    },
    {
      "cell_type": "markdown",
      "source": [
        "### <font color=\"orange\">Instanciar objetos da classe FabricaVeiculo </font>"
      ],
      "metadata": {
        "id": "gGOVHXU-ImPq"
      }
    },
    {
      "cell_type": "code",
      "source": [
        "fab1 = FabricaVeiculo(\"A101\")\n",
        "fab1.fabricar(5)\n",
        "fab2 = FabricaVeiculo(\"B102\")\n",
        "fab2.fabricar(10)\n",
        "fab3 = FabricaVeiculo(\"C103\")\n",
        "fab3.fabricar(15)"
      ],
      "metadata": {
        "id": "HI5TbllNEuM7"
      },
      "execution_count": null,
      "outputs": []
    },
    {
      "cell_type": "markdown",
      "source": [
        "### <font color=\"orange\">Acessar a lista de fábricas e imprimir cada uma </font>"
      ],
      "metadata": {
        "id": "DBPabk6_EuN8"
      }
    },
    {
      "cell_type": "code",
      "source": [
        "for fab in FabricaVeiculo.fabricas:\n",
        "    print(fab)"
      ],
      "metadata": {
        "id": "VTg-jw3nEuN8",
        "colab": {
          "base_uri": "https://localhost:8080/"
        },
        "outputId": "8a57d628-bd19-4120-e57c-1b357064f14a"
      },
      "execution_count": null,
      "outputs": [
        {
          "output_type": "stream",
          "name": "stdout",
          "text": [
            "\n",
            "            self.cod_fabrica = 'A101'\n",
            "            self.qtde_fabricada = 5\n",
            "            FabricaVeiculo.fabricacao_total = 30\n",
            "        \n",
            "\n",
            "            self.cod_fabrica = 'B102'\n",
            "            self.qtde_fabricada = 10\n",
            "            FabricaVeiculo.fabricacao_total = 30\n",
            "        \n",
            "\n",
            "            self.cod_fabrica = 'C103'\n",
            "            self.qtde_fabricada = 15\n",
            "            FabricaVeiculo.fabricacao_total = 30\n",
            "        \n"
          ]
        }
      ]
    },
    {
      "cell_type": "markdown",
      "source": [
        "---\n",
        "# <font color=\"orange\">**Atividade POO usando entidades do modelo de dados Calint** </font>\n",
        "---\n",
        "\n"
      ],
      "metadata": {
        "id": "XiBCLMfq--QL"
      }
    },
    {
      "cell_type": "markdown",
      "source": [
        "### <font color=\"orange\">**ATIVIDADE 01.** Considerando o modelo lógico do modelo de dados CALINT: </font>\n",
        "* Crie classes para cada entidade contendo seus respectivos atributos.  \n",
        "* As classes devem possuir propriedades referentes aos atributos das entidades."
      ],
      "metadata": {
        "id": "sB5QuPdNK_of"
      }
    },
    {
      "cell_type": "markdown",
      "source": [
        "![image.png](data:image/png;base64,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)"
      ],
      "metadata": {
        "id": "JzMNMMYj--QL"
      }
    },
    {
      "cell_type": "markdown",
      "source": [
        "### <font color=\"orange\">Código da classe DataCategoria </font>"
      ],
      "metadata": {
        "id": "EHtW3eqjEuO3"
      }
    },
    {
      "cell_type": "code",
      "source": [],
      "metadata": {
        "id": "BSSdAJxkEuO4"
      },
      "execution_count": null,
      "outputs": []
    },
    {
      "cell_type": "markdown",
      "source": [
        "### <font color=\"orange\">Código da classe Data</font>"
      ],
      "metadata": {
        "id": "q6rBZofpEuP0"
      }
    },
    {
      "cell_type": "code",
      "source": [],
      "metadata": {
        "id": "vdgusa9lEuP0"
      },
      "execution_count": null,
      "outputs": []
    },
    {
      "cell_type": "markdown",
      "source": [
        "### <font color=\"orange\">Código da classe EventoCategoria </font>"
      ],
      "metadata": {
        "id": "FbceJiBzEuQw"
      }
    },
    {
      "cell_type": "code",
      "source": [],
      "metadata": {
        "id": "433L61mIEuQw"
      },
      "execution_count": null,
      "outputs": []
    },
    {
      "cell_type": "markdown",
      "source": [
        "### <font color=\"orange\">Código da classe Evento </font>"
      ],
      "metadata": {
        "id": "kfP_K67ZEuRs"
      }
    },
    {
      "cell_type": "code",
      "source": [],
      "metadata": {
        "id": "wHaD83uQEuRt"
      },
      "execution_count": null,
      "outputs": []
    },
    {
      "cell_type": "markdown",
      "source": [
        "### <font color=\"orange\">Código da classe EventoData </font>"
      ],
      "metadata": {
        "id": "12xIPUXLEuSn"
      }
    },
    {
      "cell_type": "code",
      "source": [],
      "metadata": {
        "id": "UNKVJ0RCEuSo"
      },
      "execution_count": null,
      "outputs": []
    },
    {
      "cell_type": "markdown",
      "source": [
        "### <font color=\"orange\">**ATIVIDADE 02.** Considerando que você concluiu a atividade 01: </font>\n",
        "* Para cada classes/entidade crie uma lista Python para armazenar as instâncias. Essas listas irão simular o banco de dados.\n",
        "* Crie um programa para realizar as operações do App CALINT permitindo a criação, exclusão e atualização das classes/entidades.\n",
        "* Seu programa deve seguir o modelo de menu de operações apresentado na imagem abaixo:"
      ],
      "metadata": {
        "id": "n7bL6o3dEuTj"
      }
    },
    {
      "cell_type": "markdown",
      "source": [
        "![Menu_Operacoes.jpg](data:image/jpeg;base64,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)"
      ],
      "metadata": {
        "id": "tgQdtLSIEuUe"
      }
    },
    {
      "cell_type": "code",
      "source": [],
      "metadata": {
        "id": "GEcZWPBWEuTj"
      },
      "execution_count": null,
      "outputs": []
    },
    {
      "cell_type": "code",
      "source": [],
      "metadata": {
        "id": "exAqCFTMEuUe"
      },
      "execution_count": null,
      "outputs": []
    },
    {
      "cell_type": "markdown",
      "source": [
        "### <font color=\"yellow\">. </font>"
      ],
      "metadata": {
        "id": "BAA-lTyEEuVZ"
      }
    },
    {
      "cell_type": "code",
      "source": [],
      "metadata": {
        "id": "CpdY-J2DEuVZ"
      },
      "execution_count": null,
      "outputs": []
    },
    {
      "cell_type": "markdown",
      "source": [
        "### <font color=\"yellow\">. </font>"
      ],
      "metadata": {
        "id": "h3KVt2p_EuWi"
      }
    },
    {
      "cell_type": "code",
      "source": [],
      "metadata": {
        "id": "xDhsQZDvEuWi"
      },
      "execution_count": null,
      "outputs": []
    },
    {
      "cell_type": "markdown",
      "source": [
        "### <font color=\"yellow\">. </font>"
      ],
      "metadata": {
        "id": "PKFXaysEEuX-"
      }
    },
    {
      "cell_type": "code",
      "source": [],
      "metadata": {
        "id": "emELT7DLEuYA"
      },
      "execution_count": null,
      "outputs": []
    },
    {
      "cell_type": "markdown",
      "source": [
        "### <font color=\"yellow\">. </font>"
      ],
      "metadata": {
        "id": "Y_9NjeGxEuZZ"
      }
    },
    {
      "cell_type": "code",
      "source": [],
      "metadata": {
        "id": "7Z-IWEeJEuZa"
      },
      "execution_count": null,
      "outputs": []
    },
    {
      "cell_type": "markdown",
      "source": [
        "### <font color=\"yellow\">. </font>"
      ],
      "metadata": {
        "id": "evD6eqSVEuaY"
      }
    },
    {
      "cell_type": "code",
      "source": [],
      "metadata": {
        "id": "jOQ0OVrqEuaY"
      },
      "execution_count": null,
      "outputs": []
    },
    {
      "cell_type": "markdown",
      "source": [
        "### <font color=\"yellow\">. </font>"
      ],
      "metadata": {
        "id": "wyV0s9YiEubX"
      }
    },
    {
      "cell_type": "code",
      "source": [],
      "metadata": {
        "id": "oZmzhcDxEubX"
      },
      "execution_count": null,
      "outputs": []
    },
    {
      "cell_type": "markdown",
      "source": [
        "### <font color=\"yellow\">. </font>"
      ],
      "metadata": {
        "id": "81VUgG7IEudG"
      }
    },
    {
      "cell_type": "code",
      "source": [],
      "metadata": {
        "id": "aJaUk2MBEudG"
      },
      "execution_count": null,
      "outputs": []
    },
    {
      "cell_type": "markdown",
      "source": [
        "### <font color=\"yellow\">. </font>"
      ],
      "metadata": {
        "id": "RMG9rsPzEueF"
      }
    },
    {
      "cell_type": "code",
      "source": [],
      "metadata": {
        "id": "6WtbX7yWEueF"
      },
      "execution_count": null,
      "outputs": []
    },
    {
      "cell_type": "markdown",
      "source": [
        "### <font color=\"yellow\">. </font>"
      ],
      "metadata": {
        "id": "G-DIkOLUEufD"
      }
    },
    {
      "cell_type": "code",
      "source": [],
      "metadata": {
        "id": "Fa8FbvcgEufD"
      },
      "execution_count": null,
      "outputs": []
    },
    {
      "cell_type": "markdown",
      "source": [
        "### <font color=\"yellow\">. </font>"
      ],
      "metadata": {
        "id": "YaEK4stxEugD"
      }
    },
    {
      "cell_type": "code",
      "source": [],
      "metadata": {
        "id": "5hyKZtHFEugD"
      },
      "execution_count": null,
      "outputs": []
    },
    {
      "cell_type": "markdown",
      "source": [
        "### <font color=\"yellow\">. </font>"
      ],
      "metadata": {
        "id": "ylQZDSnSEuhD"
      }
    },
    {
      "cell_type": "code",
      "source": [],
      "metadata": {
        "id": "xavpDNPuEuhD"
      },
      "execution_count": null,
      "outputs": []
    },
    {
      "cell_type": "markdown",
      "source": [
        "### <font color=\"yellow\">. </font>"
      ],
      "metadata": {
        "id": "TvIyTqY3EuiE"
      }
    },
    {
      "cell_type": "code",
      "source": [],
      "metadata": {
        "id": "4YfF6--nEuiE"
      },
      "execution_count": null,
      "outputs": []
    },
    {
      "cell_type": "markdown",
      "source": [
        "### <font color=\"yellow\">. </font>"
      ],
      "metadata": {
        "id": "7mWONbkAEujF"
      }
    },
    {
      "cell_type": "code",
      "source": [],
      "metadata": {
        "id": "52ztSPtyEujF"
      },
      "execution_count": null,
      "outputs": []
    },
    {
      "cell_type": "markdown",
      "source": [
        "### <font color=\"yellow\">. </font>"
      ],
      "metadata": {
        "id": "RD8PkXhfEukJ"
      }
    },
    {
      "cell_type": "code",
      "source": [],
      "metadata": {
        "id": "L5okNiMfEukJ"
      },
      "execution_count": null,
      "outputs": []
    },
    {
      "cell_type": "markdown",
      "source": [
        "### <font color=\"yellow\">. </font>"
      ],
      "metadata": {
        "id": "fHZxUMZXEulL"
      }
    },
    {
      "cell_type": "code",
      "source": [],
      "metadata": {
        "id": "bYb8lr4lEulL"
      },
      "execution_count": null,
      "outputs": []
    },
    {
      "cell_type": "markdown",
      "source": [
        "### <font color=\"yellow\">. </font>"
      ],
      "metadata": {
        "id": "qyW3hac7EumN"
      }
    },
    {
      "cell_type": "code",
      "source": [],
      "metadata": {
        "id": "Ewx1XwgGEumO"
      },
      "execution_count": null,
      "outputs": []
    },
    {
      "cell_type": "markdown",
      "source": [
        "### <font color=\"yellow\">. </font>"
      ],
      "metadata": {
        "id": "-ZLtZE4tEunR"
      }
    },
    {
      "cell_type": "code",
      "source": [],
      "metadata": {
        "id": "3-ZZXTChEunS"
      },
      "execution_count": null,
      "outputs": []
    },
    {
      "cell_type": "markdown",
      "source": [
        "### <font color=\"yellow\">. </font>"
      ],
      "metadata": {
        "id": "b39xzTeREuoU"
      }
    },
    {
      "cell_type": "code",
      "source": [],
      "metadata": {
        "id": "oO019aKcEuoV"
      },
      "execution_count": null,
      "outputs": []
    }
  ]
}
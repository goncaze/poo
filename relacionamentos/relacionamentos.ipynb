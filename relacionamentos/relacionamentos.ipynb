{
  "nbformat": 4,
  "nbformat_minor": 0,
  "metadata": {
    "colab": {
      "provenance": [],
      "include_colab_link": true
    },
    "kernelspec": {
      "name": "python3",
      "display_name": "Python 3"
    },
    "language_info": {
      "name": "python"
    }
  },
  "cells": [
    {
      "cell_type": "markdown",
      "metadata": {
        "id": "view-in-github",
        "colab_type": "text"
      },
      "source": [
        "<a href=\"https://colab.research.google.com/github/goncaze/poo/blob/main/relacionamentos/relacionamentos.ipynb\" target=\"_parent\"><img src=\"https://colab.research.google.com/assets/colab-badge.svg\" alt=\"Open In Colab\"/></a>"
      ]
    },
    {
      "cell_type": "markdown",
      "source": [
        "# <font color=\"ocean\" align='center'><b>Relacionamento entre Classes na linguagem Python</b></font>"
      ],
      "metadata": {
        "id": "v2PVhqNp1yBo"
      }
    },
    {
      "cell_type": "markdown",
      "source": [
        "---\n",
        "## <font color=\"ocean\"><b>Relacionamentos do tipo associação</b></font>\n",
        "---"
      ],
      "metadata": {
        "id": "1NuQdtu4BZpG"
      }
    },
    {
      "cell_type": "markdown",
      "source": [
        "### <font color='orange'>**RELAÇÃO DE ASSOCIAÇÃO UNIDIRECIONAL**</font>"
      ],
      "metadata": {
        "id": "i1lwGMof2D5y"
      }
    },
    {
      "cell_type": "code",
      "execution_count": 6,
      "metadata": {
        "id": "vxlC5Lu102IH"
      },
      "outputs": [],
      "source": [
        "class Docente:\n",
        "    def __init__(self, nome: str)->None:\n",
        "        self.nome = nome\n",
        "\n",
        "    def __str__(self)->str:\n",
        "        return f\"Docente {self.nome}.\"\n"
      ]
    },
    {
      "cell_type": "code",
      "source": [
        "class Disciplina:\n",
        "    def __init__(self, disciplina, docente):\n",
        "        self.disciplina = disciplina\n",
        "        self.docente = docente\n",
        "\n",
        "    def __str__(self) -> str:\n",
        "       return f\"Disciplina: {self.disciplina} ministrada pela(o) {self.docente}\"\n",
        ""
      ],
      "metadata": {
        "id": "PvARBaqXX8rE"
      },
      "execution_count": 7,
      "outputs": []
    },
    {
      "cell_type": "code",
      "source": [
        "prof = Docente(\"Sócrates\")\n",
        "discip = Disciplina(\"Filosofia\", prof)\n",
        "\n",
        "print()\n",
        "print(discip)\n",
        "print()\n"
      ],
      "metadata": {
        "colab": {
          "base_uri": "https://localhost:8080/"
        },
        "id": "wvARztsMZ0pr",
        "outputId": "dd17084f-1028-4cee-d347-a292c6095075"
      },
      "execution_count": 8,
      "outputs": [
        {
          "output_type": "stream",
          "name": "stdout",
          "text": [
            "\n",
            "Disciplina: Filosofia ministrada pela(o) Docente Sócrates.\n",
            "\n"
          ]
        }
      ]
    },
    {
      "cell_type": "markdown",
      "source": [
        "### <font color='orange'>**RELAÇÃO DE ASSOCIAÇÃO BIDIRECIONAL**</font>"
      ],
      "metadata": {
        "id": "iH9HYW2-acY2"
      }
    },
    {
      "cell_type": "code",
      "execution_count": 9,
      "metadata": {
        "id": "fgGSxZo2acY4"
      },
      "outputs": [],
      "source": [
        "class Docente:\n",
        "    def __init__(self, nome: str)->None:\n",
        "        self.nome = nome\n",
        "        self.disciplinas = list()\n",
        "\n",
        "    def __str__(self)->str:\n",
        "        imprimir = f\"Docente: {self.nome}.\"\n",
        "        for discip in self.disciplinas:\n",
        "            imprimir += f\"\\n{discip}\"\n",
        "\n",
        "        return imprimir\n"
      ]
    },
    {
      "cell_type": "code",
      "source": [
        "class Disciplina:\n",
        "    def __init__(self, disciplina, docente):\n",
        "        self.disciplina = disciplina\n",
        "        self.docente = docente\n",
        "\n",
        "    def __str__(self) -> str:\n",
        "       return f\"\\tDisciplina: {self.disciplina}\"\n",
        ""
      ],
      "metadata": {
        "id": "e1ZVgTN-acY5"
      },
      "execution_count": 10,
      "outputs": []
    },
    {
      "cell_type": "code",
      "source": [
        "prof = Docente(\"Sócrates\")\n",
        "filo = Disciplina(\"Filosofia\", prof)\n",
        "mat = Disciplina(\"Matemática\", prof)\n",
        "fis = Disciplina(\"Física\", prof)\n",
        "\n",
        "prof.disciplinas = [filo, mat, fis]\n",
        "\n",
        "print()\n",
        "print(prof)\n",
        "print()\n"
      ],
      "metadata": {
        "outputId": "5ba131cf-a82e-4ac3-baf6-b296d3634bce",
        "colab": {
          "base_uri": "https://localhost:8080/"
        },
        "id": "p2zEqaCtacY6"
      },
      "execution_count": 11,
      "outputs": [
        {
          "output_type": "stream",
          "name": "stdout",
          "text": [
            "\n",
            "Docente: Sócrates.\n",
            "\tDisciplina: Filosofia\n",
            "\tDisciplina: Matemática\n",
            "\tDisciplina: Física\n",
            "\n"
          ]
        }
      ]
    },
    {
      "cell_type": "markdown",
      "source": [
        "---\n",
        "## <font color=\"ocean\"><b>Relacionamentos do tipo agregação</b></font>\n",
        "---"
      ],
      "metadata": {
        "id": "g9ozRxC37ENs"
      }
    },
    {
      "cell_type": "code",
      "source": [
        "class Disciplina:\n",
        "    def __init__(self, disciplina, docente):\n",
        "        self.disciplina = disciplina\n",
        "        self.docente = docente\n",
        "\n",
        "    def __str__(self) -> str:\n",
        "       return f\"\\tDisciplina: {self.disciplina}\"\n"
      ],
      "metadata": {
        "id": "CpdY-J2DEuVZ"
      },
      "execution_count": 12,
      "outputs": []
    },
    {
      "cell_type": "code",
      "source": [
        "class Curso:\n",
        "  def __init__(self, curso: str):\n",
        "      self.curso = curso\n",
        "      self.disciplinas = list()\n",
        "\n",
        "  def __str__(self) -> str:\n",
        "      imprimir = f\"Curso: {self.curso}.\"\n",
        "      for discip in self.disciplinas:\n",
        "        imprimir += f\"\\n{discip}\"\n",
        "\n",
        "      return imprimir\n"
      ],
      "metadata": {
        "id": "xDhsQZDvEuWi"
      },
      "execution_count": 13,
      "outputs": []
    },
    {
      "cell_type": "code",
      "source": [
        "curso1 = Curso(\"Administração\")\n",
        "curso2 = Curso(\"Agricultura\")\n",
        "curso3 = Curso(\"Aquicultura\")\n",
        "\n",
        "discip1 = Disciplina(\"Informática básica\", prof)\n",
        "discip2 = Disciplina(\"Análise química da água+9.\", prof)\n",
        "discip3 = Disciplina(\"Análise de solos\", prof)\n",
        "\n",
        "curso1.disciplinas = [discip1]\n",
        "curso2.disciplinas = [discip1, discip3]\n",
        "curso3.disciplinas = [discip1, discip2]\n",
        "\n",
        "print(curso1)\n",
        "print(curso2)\n",
        "print(curso3)\n"
      ],
      "metadata": {
        "id": "emELT7DLEuYA",
        "outputId": "68f12d16-5fa4-4914-d140-3ffa9ceffaa2",
        "colab": {
          "base_uri": "https://localhost:8080/"
        }
      },
      "execution_count": 15,
      "outputs": [
        {
          "output_type": "stream",
          "name": "stdout",
          "text": [
            "Curso: Administração.\n",
            "\tDisciplina: Informática básica\n",
            "Curso: Agricultura.\n",
            "\tDisciplina: Informática básica\n",
            "\tDisciplina: Análise de solos\n",
            "Curso: Aquicultura.\n",
            "\tDisciplina: Informática básica\n",
            "\tDisciplina: Análise química\n"
          ]
        }
      ]
    },
    {
      "cell_type": "markdown",
      "source": [
        "---\n",
        "## <font color=\"ocean\"><b>Relacionamentos do tipo composição</b></font>\n",
        "---"
      ],
      "metadata": {
        "id": "tQzr43-G6FI0"
      }
    },
    {
      "cell_type": "markdown",
      "source": [
        "### <font color=\"orange\">Vejamos as partes que constituem o sistema auditivo, como exemplo. </font>\n",
        "\n",
        "Fonte: https://www.binaural.com.br/blog/perda-auditiva/sistema-auditivo-entenda-como-funciona/\n"
      ],
      "metadata": {
        "id": "Y_9NjeGxEuZZ"
      }
    },
    {
      "cell_type": "code",
      "source": [
        "class OuvidoExterno:\n",
        "  def __init__(self) -> None:\n",
        "      self.pavilhao_auditivo = None\n",
        "      self.canal_auditivo = None\n",
        "\n",
        "  def __str__(self) -> str:\n",
        "    imprimir =  \"self.__class__.__name__\"\n",
        "    # imprimir += \" \\t\" + self.__dict__\n",
        "    return imprimir\n",
        "\n",
        "\n",
        "\n",
        "class OuvidoMedio:\n",
        "  def __init__(self) -> None:\n",
        "      self.timpano = None\n",
        "      self.martelo = None\n",
        "      self.bigorna = None\n",
        "      self.estribo = None\n",
        "\n",
        "\n",
        "class OuvidoInterno:\n",
        "  def __init__(self) -> None:\n",
        "    self.coclea = None\n",
        "    self.labirinto = None\n"
      ],
      "metadata": {
        "id": "7Z-IWEeJEuZa"
      },
      "execution_count": 52,
      "outputs": []
    },
    {
      "cell_type": "code",
      "source": [
        "ouvido_externo = OuvidoExterno()\n",
        "\n",
        "vars(ouvido_externo)"
      ],
      "metadata": {
        "id": "aJaUk2MBEudG",
        "outputId": "4007618e-af3e-4332-f7fc-057ca1ab5d55",
        "colab": {
          "base_uri": "https://localhost:8080/"
        }
      },
      "execution_count": 53,
      "outputs": [
        {
          "output_type": "execute_result",
          "data": {
            "text/plain": [
              "{'pavilhao_auditivo': None, 'canal_auditivo': None}"
            ]
          },
          "metadata": {},
          "execution_count": 53
        }
      ]
    },
    {
      "cell_type": "code",
      "source": [
        "class SistemaAuditivo:\n",
        "  def __init__(self, ouvido_externo, ouvido_medio, ouvido_interno):\n",
        "    self.ouvido_externo = ouvido_externo\n",
        "    self.ouvido_medio = ouvido_medio\n",
        "    self.ouvido_interno = ouvido_interno\n"
      ],
      "metadata": {
        "id": "jOQ0OVrqEuaY"
      },
      "execution_count": 34,
      "outputs": []
    },
    {
      "cell_type": "code",
      "source": [
        "ouvido_externo = OuvidoExterno()\n",
        "ouvido_medio = OuvidoMedio()\n",
        "ouvido_interno = OuvidoInterno()\n",
        "\n",
        "sistema_auditivo = SistemaAuditivo(ouvido_externo, ouvido_medio, ouvido_interno)\n"
      ],
      "metadata": {
        "id": "oZmzhcDxEubX"
      },
      "execution_count": 35,
      "outputs": []
    },
    {
      "cell_type": "markdown",
      "source": [
        "### <font color=\"yellow\">. </font>"
      ],
      "metadata": {
        "id": "81VUgG7IEudG"
      }
    },
    {
      "cell_type": "markdown",
      "source": [
        "### <font color=\"yellow\">. </font>"
      ],
      "metadata": {
        "id": "RMG9rsPzEueF"
      }
    },
    {
      "cell_type": "code",
      "source": [],
      "metadata": {
        "id": "6WtbX7yWEueF"
      },
      "execution_count": null,
      "outputs": []
    },
    {
      "cell_type": "markdown",
      "source": [
        "### <font color=\"yellow\">. </font>"
      ],
      "metadata": {
        "id": "G-DIkOLUEufD"
      }
    },
    {
      "cell_type": "code",
      "source": [],
      "metadata": {
        "id": "Fa8FbvcgEufD"
      },
      "execution_count": null,
      "outputs": []
    },
    {
      "cell_type": "markdown",
      "source": [
        "### <font color=\"yellow\">. </font>"
      ],
      "metadata": {
        "id": "YaEK4stxEugD"
      }
    },
    {
      "cell_type": "code",
      "source": [],
      "metadata": {
        "id": "5hyKZtHFEugD"
      },
      "execution_count": null,
      "outputs": []
    },
    {
      "cell_type": "markdown",
      "source": [
        "### <font color=\"yellow\">. </font>"
      ],
      "metadata": {
        "id": "ylQZDSnSEuhD"
      }
    },
    {
      "cell_type": "code",
      "source": [],
      "metadata": {
        "id": "xavpDNPuEuhD"
      },
      "execution_count": null,
      "outputs": []
    },
    {
      "cell_type": "markdown",
      "source": [
        "### <font color=\"yellow\">. </font>"
      ],
      "metadata": {
        "id": "TvIyTqY3EuiE"
      }
    },
    {
      "cell_type": "code",
      "source": [],
      "metadata": {
        "id": "4YfF6--nEuiE"
      },
      "execution_count": null,
      "outputs": []
    },
    {
      "cell_type": "markdown",
      "source": [
        "### <font color=\"yellow\">. </font>"
      ],
      "metadata": {
        "id": "7mWONbkAEujF"
      }
    },
    {
      "cell_type": "code",
      "source": [],
      "metadata": {
        "id": "52ztSPtyEujF"
      },
      "execution_count": null,
      "outputs": []
    },
    {
      "cell_type": "markdown",
      "source": [
        "### <font color=\"yellow\">. </font>"
      ],
      "metadata": {
        "id": "RD8PkXhfEukJ"
      }
    },
    {
      "cell_type": "code",
      "source": [],
      "metadata": {
        "id": "L5okNiMfEukJ"
      },
      "execution_count": null,
      "outputs": []
    },
    {
      "cell_type": "markdown",
      "source": [
        "### <font color=\"yellow\">. </font>"
      ],
      "metadata": {
        "id": "fHZxUMZXEulL"
      }
    },
    {
      "cell_type": "code",
      "source": [],
      "metadata": {
        "id": "bYb8lr4lEulL"
      },
      "execution_count": null,
      "outputs": []
    },
    {
      "cell_type": "markdown",
      "source": [
        "### <font color=\"yellow\">. </font>"
      ],
      "metadata": {
        "id": "qyW3hac7EumN"
      }
    },
    {
      "cell_type": "code",
      "source": [],
      "metadata": {
        "id": "Ewx1XwgGEumO"
      },
      "execution_count": null,
      "outputs": []
    },
    {
      "cell_type": "markdown",
      "source": [
        "### <font color=\"yellow\">. </font>"
      ],
      "metadata": {
        "id": "-ZLtZE4tEunR"
      }
    },
    {
      "cell_type": "code",
      "source": [],
      "metadata": {
        "id": "3-ZZXTChEunS"
      },
      "execution_count": null,
      "outputs": []
    },
    {
      "cell_type": "markdown",
      "source": [
        "### <font color=\"yellow\">. </font>"
      ],
      "metadata": {
        "id": "b39xzTeREuoU"
      }
    },
    {
      "cell_type": "code",
      "source": [],
      "metadata": {
        "id": "oO019aKcEuoV"
      },
      "execution_count": null,
      "outputs": []
    }
  ]
}
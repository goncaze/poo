{
  "nbformat": 4,
  "nbformat_minor": 0,
  "metadata": {
    "colab": {
      "provenance": [],
      "include_colab_link": true
    },
    "kernelspec": {
      "name": "python3",
      "display_name": "Python 3"
    },
    "language_info": {
      "name": "python"
    }
  },
  "cells": [
    {
      "cell_type": "markdown",
      "metadata": {
        "id": "view-in-github",
        "colab_type": "text"
      },
      "source": [
        "<a href=\"https://colab.research.google.com/github/goncaze/poo/blob/main/relacionamentos/relacionamentos.ipynb\" target=\"_parent\"><img src=\"https://colab.research.google.com/assets/colab-badge.svg\" alt=\"Open In Colab\"/></a>"
      ]
    },
    {
      "cell_type": "markdown",
      "source": [
        "# <font color=\"ocean\" align='center'><b>Relacionamento entre Classes na linguagem Python</b></font>"
      ],
      "metadata": {
        "id": "v2PVhqNp1yBo"
      }
    },
    {
      "cell_type": "markdown",
      "source": [
        "---\n",
        "## <font color=\"ocean\"><b>Relacionamentos do tipo associação</b></font>\n",
        "---"
      ],
      "metadata": {
        "id": "1NuQdtu4BZpG"
      }
    },
    {
      "cell_type": "markdown",
      "source": [
        "### <font color='orange'>**RELAÇÃO DE ASSOCIAÇÃO UNIDIRECIONAL**</font>"
      ],
      "metadata": {
        "id": "i1lwGMof2D5y"
      }
    },
    {
      "cell_type": "code",
      "execution_count": null,
      "metadata": {
        "id": "vxlC5Lu102IH"
      },
      "outputs": [],
      "source": [
        "class Docente:\n",
        "    def __init__(self, nome: str)->None:\n",
        "        self.nome = nome\n",
        "\n",
        "    def __str__(self)->str:\n",
        "        return f\"Docente {self.nome}.\"\n"
      ]
    },
    {
      "cell_type": "code",
      "source": [
        "class Disciplina:\n",
        "    def __init__(self, disciplina, docente):\n",
        "        self.disciplina = disciplina\n",
        "        self.docente = docente\n",
        "\n",
        "    def __str__(self) -> str:\n",
        "       return f\"Disciplina: {self.disciplina} ministrada pela(o) {self.docente}\"\n"
      ],
      "metadata": {
        "id": "PvARBaqXX8rE"
      },
      "execution_count": null,
      "outputs": []
    },
    {
      "cell_type": "code",
      "source": [
        "prof = Docente(\"Sócrates\")\n",
        "discip = Disciplina(\"Filosofia\", prof)\n",
        "\n",
        "print()\n",
        "print(discip)\n",
        "print()\n"
      ],
      "metadata": {
        "id": "wvARztsMZ0pr"
      },
      "execution_count": null,
      "outputs": []
    },
    {
      "cell_type": "markdown",
      "source": [
        "### <font color='orange'>**RELAÇÃO DE ASSOCIAÇÃO BIDIRECIONAL**</font>"
      ],
      "metadata": {
        "id": "iH9HYW2-acY2"
      }
    },
    {
      "cell_type": "code",
      "execution_count": null,
      "metadata": {
        "id": "fgGSxZo2acY4"
      },
      "outputs": [],
      "source": [
        "class Docente:\n",
        "    def __init__(self, nome: str)->None:\n",
        "        self.nome = nome\n",
        "        self.disciplinas = list()\n",
        "\n",
        "    def __str__(self)->str:\n",
        "        imprimir = f\"Docente: {self.nome}.\"\n",
        "        for discip in self.disciplinas:\n",
        "            imprimir += f\"\\n{discip}\"\n",
        "\n",
        "        return imprimir\n"
      ]
    },
    {
      "cell_type": "code",
      "source": [
        "class Disciplina:\n",
        "    def __init__(self, disciplina, docente):\n",
        "        self.disciplina = disciplina\n",
        "        self.docente = docente\n",
        "\n",
        "    def __str__(self) -> str:\n",
        "       return f\"\\tDisciplina: {self.disciplina}\"\n"
      ],
      "metadata": {
        "id": "e1ZVgTN-acY5"
      },
      "execution_count": null,
      "outputs": []
    },
    {
      "cell_type": "code",
      "source": [
        "prof = Docente(\"Sócrates\")\n",
        "filo = Disciplina(\"Filosofia\", prof)\n",
        "mat = Disciplina(\"Matemática\", prof)\n",
        "fis = Disciplina(\"Física\", prof)\n",
        "\n",
        "prof.disciplinas = [filo, mat, fis]\n",
        "\n",
        "print()\n",
        "print(prof)\n",
        "print()\n"
      ],
      "metadata": {
        "id": "p2zEqaCtacY6"
      },
      "execution_count": null,
      "outputs": []
    },
    {
      "cell_type": "markdown",
      "source": [
        "---\n",
        "## <font color=\"ocean\"><b>Relacionamentos do tipo agregação</b></font>\n",
        "---"
      ],
      "metadata": {
        "id": "g9ozRxC37ENs"
      }
    },
    {
      "cell_type": "code",
      "source": [
        "class Disciplina:\n",
        "    def __init__(self, disciplina, docente):\n",
        "        self.disciplina = disciplina\n",
        "        self.docente = docente\n",
        "\n",
        "    def __str__(self) -> str:\n",
        "       return f\"\\tDisciplina: {self.disciplina}\"\n"
      ],
      "metadata": {
        "id": "CpdY-J2DEuVZ"
      },
      "execution_count": null,
      "outputs": []
    },
    {
      "cell_type": "code",
      "source": [
        "class Curso:\n",
        "  def __init__(self, curso: str):\n",
        "      self.curso = curso\n",
        "      self.disciplinas = list()\n",
        "\n",
        "  def __str__(self) -> str:\n",
        "      imprimir = f\"Curso: {self.curso}.\"\n",
        "      for discip in self.disciplinas:\n",
        "        imprimir += f\"\\n{discip}\"\n",
        "\n",
        "      return imprimir\n"
      ],
      "metadata": {
        "id": "xDhsQZDvEuWi"
      },
      "execution_count": null,
      "outputs": []
    },
    {
      "cell_type": "code",
      "source": [
        "curso1 = Curso(\"Administração\")\n",
        "curso2 = Curso(\"Agricultura\")\n",
        "curso3 = Curso(\"Aquicultura\")\n",
        "\n",
        "discip1 = Disciplina(\"Informática básica\", prof)\n",
        "discip2 = Disciplina(\"Análise química da água+9.\", prof)\n",
        "discip3 = Disciplina(\"Análise de solos\", prof)\n",
        "\n",
        "curso1.disciplinas = [discip1]\n",
        "curso2.disciplinas = [discip1, discip3]\n",
        "curso3.disciplinas = [discip1, discip2]\n",
        "\n",
        "print(curso1)\n",
        "print(curso2)\n",
        "print(curso3)\n"
      ],
      "metadata": {
        "id": "emELT7DLEuYA"
      },
      "execution_count": null,
      "outputs": []
    },
    {
      "cell_type": "markdown",
      "source": [
        "---\n",
        "## <font color=\"ocean\"><b>Relacionamentos do tipo composição</b></font>\n",
        "---"
      ],
      "metadata": {
        "id": "tQzr43-G6FI0"
      }
    },
    {
      "cell_type": "markdown",
      "source": [
        "### <font color=\"orange\">Vejamos as partes que constituem o sistema auditivo, como exemplo. </font>\n",
        "\n",
        "Fonte: https://www.binaural.com.br/blog/perda-auditiva/sistema-auditivo-entenda-como-funciona/\n"
      ],
      "metadata": {
        "id": "Y_9NjeGxEuZZ"
      }
    },
    {
      "cell_type": "code",
      "source": [
        "class OuvidoExterno:\n",
        "  def __init__(self) -> None:\n",
        "      self.pavilhao_auditivo = None\n",
        "      self.canal_auditivo = None\n",
        "\n",
        "  def __str__(self) -> str:\n",
        "    imprimir =  self.__class__.__name__\n",
        "    for atributo in self.__dict__:\n",
        "      imprimir += f\"\\n\\t{atributo}\"\n",
        "    return imprimir\n",
        "\n",
        "\n",
        "\n",
        "class OuvidoMedio:\n",
        "  def __init__(self) -> None:\n",
        "      self.timpano = None\n",
        "      self.martelo = None\n",
        "      self.bigorna = None\n",
        "      self.estribo = None\n",
        "\n",
        "  def __str__(self) -> str:\n",
        "    imprimir =  self.__class__.__name__\n",
        "    for atributo in self.__dict__:\n",
        "      imprimir += f\"\\n\\t{atributo}\"\n",
        "    return imprimir\n",
        "\n",
        "\n",
        "\n",
        "class OuvidoInterno:\n",
        "  def __init__(self) -> None:\n",
        "    self.coclea = None\n",
        "    self.labirinto = None\n",
        "\n",
        "  def __str__(self) -> str:\n",
        "    imprimir =  self.__class__.__name__\n",
        "    for atributo in self.__dict__:\n",
        "      imprimir += f\"\\n\\t{atributo}\"\n",
        "    return imprimir\n"
      ],
      "metadata": {
        "id": "7Z-IWEeJEuZa"
      },
      "execution_count": null,
      "outputs": []
    },
    {
      "cell_type": "code",
      "source": [
        "class SistemaAuditivo:\n",
        "  def __init__(self, ouvido_externo, ouvido_medio, ouvido_interno):\n",
        "    self.ouvido_externo: OuvidoExterno = ouvido_externo\n",
        "    self.ouvido_medio: OuvidoMedio = ouvido_medio\n",
        "    self.ouvido_interno: OuvidoInterno = ouvido_interno\n",
        "\n",
        "  def __str__(self) -> str:\n",
        "    imprimir =  self.__class__.__name__\n",
        "    imprimir += f\"\\n{self.ouvido_externo}\"\n",
        "    imprimir += f\"\\n{self.ouvido_medio}\"\n",
        "    imprimir += f\"\\n{self.ouvido_interno}\"\n",
        "    return imprimir\n"
      ],
      "metadata": {
        "id": "jOQ0OVrqEuaY"
      },
      "execution_count": null,
      "outputs": []
    },
    {
      "cell_type": "code",
      "source": [
        "ouvido_externo = OuvidoExterno()\n",
        "ouvido_medio = OuvidoMedio()\n",
        "ouvido_interno = OuvidoInterno()\n",
        "\n",
        "sistema_auditivo = SistemaAuditivo(ouvido_externo, ouvido_medio, ouvido_interno)\n"
      ],
      "metadata": {
        "id": "oZmzhcDxEubX"
      },
      "execution_count": null,
      "outputs": []
    },
    {
      "cell_type": "code",
      "source": [
        "print()\n",
        "print(sistema_auditivo)\n"
      ],
      "metadata": {
        "id": "aJaUk2MBEudG"
      },
      "execution_count": null,
      "outputs": []
    }
  ]
}